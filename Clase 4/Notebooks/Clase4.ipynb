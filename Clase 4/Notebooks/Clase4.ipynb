{
 "cells": [
  {
   "cell_type": "markdown",
   "metadata": {
    "id": "jd_kEOtSlMTa"
   },
   "source": [
    "# Clase 4: Manipulación de Archivos\n"
   ]
  },
  {
   "cell_type": "markdown",
   "metadata": {
    "id": "DfP_YLnywtx0"
   },
   "source": [
    "## Python "
   ]
  },
  {
   "cell_type": "markdown",
   "metadata": {
    "id": "1WHb1-dc2EgJ"
   },
   "source": [
    "\n",
    "**Felicitaciones!  Ahora saben todo lo básico de Python !!**\n",
    "\n",
    "* Lista de lo que ya sabemos:\n",
    "\n",
    "> 1. Sintaxis y comentarios \n",
    "2. Variables y tipos de datos: int, float, string, bool.\n",
    "3. Operadores aritméticos: +, -, *, /, %, //, **.\n",
    "4. Operadores de comparación: <, >, <=, >=, ==, !=.\n",
    "5. Estructuras de control: if/else, while, for.\n",
    "6. Contenedores: Listas, tuplas, diccionarios y conjuntos.\n",
    "7. Métodos de cadenas de texto (strings).\n",
    "\n",
    "* Falta:\n",
    "\n",
    "> 1. Entrada y salida de datos (input y output).\n",
    "2. Funciones y argumentos.\n",
    "3. Clases y objetos. \n",
    "4. Herencia y polimorfismo. (*)\n",
    "5. Excepciones y manejo de errores. (*)\n",
    "\n",
    "* ¿Y después?:\n",
    "\n",
    "> 1. Numpy\n",
    "2. Matplotlib\n",
    "2. Pandas\n",
    "3. SciPy\n",
    "(mucho más en los siguientes módulos!)\n",
    "\n",
    "(*) Estos temas no serán tratados en clases.\n"
   ]
  },
  {
   "cell_type": "markdown",
   "metadata": {
    "id": "vv11Qbn67IpV"
   },
   "source": [
    "## Introdución a los conceptos de funciones y módulos\n",
    "\n"
   ]
  },
  {
   "cell_type": "markdown",
   "metadata": {
    "id": "YlkXoaLjw3du"
   },
   "source": [
    "### Funciones\n",
    "\n",
    "Una función es un bloque de código que realiza una tarea específica y que se puede reutilizar en diferentes partes de un programa. Las funciones son una herramienta muy poderosa en Python, ya que nos permiten agrupar un conjunto de instrucciones relacionadas en un solo lugar, lo que hace que nuestro código sea más modular, más fácil de entender y más fácil de mantener.\n",
    "\n",
    "Ya usamos varias funciones de manera natural:"
   ]
  },
  {
   "cell_type": "code",
   "execution_count": 1,
   "metadata": {
    "id": "CLNFvQXP68Zk"
   },
   "outputs": [
    {
     "name": "stdout",
     "output_type": "stream",
     "text": [
      "[1, 2, 3, 4, 5, 6, 7, 8, 9, 10]\n"
     ]
    }
   ],
   "source": [
    "# Armado de lista de números del 1 al 10:\n",
    "numeros = []\n",
    "\n",
    "for i in range(10):\n",
    "  numeros.append(i+1)\n",
    "\n",
    "print(numeros)"
   ]
  },
  {
   "cell_type": "markdown",
   "metadata": {
    "id": "IEU1sHx69X2s"
   },
   "source": [
    "Aqui tenemos 2 funciones: `range()` y `print()`"
   ]
  },
  {
   "cell_type": "code",
   "execution_count": 2,
   "metadata": {
    "id": "s8Ga6Osy2EGF"
   },
   "outputs": [
    {
     "name": "stdout",
     "output_type": "stream",
     "text": [
      "Help on built-in function print in module builtins:\n",
      "\n",
      "print(*args, sep=' ', end='\\n', file=None, flush=False)\n",
      "    Prints the values to a stream, or to sys.stdout by default.\n",
      "\n",
      "    sep\n",
      "      string inserted between values, default a space.\n",
      "    end\n",
      "      string appended after the last value, default a newline.\n",
      "    file\n",
      "      a file-like object (stream); defaults to the current sys.stdout.\n",
      "    flush\n",
      "      whether to forcibly flush the stream.\n",
      "\n"
     ]
    }
   ],
   "source": [
    "help(print)\n"
   ]
  },
  {
   "cell_type": "markdown",
   "metadata": {
    "id": "U4aY50TExFkh"
   },
   "source": [
    "Por ahora vamos a seguir usándolas y más adelante aprenderemos un poco más sobre funciones y cómo usarlas."
   ]
  },
  {
   "cell_type": "markdown",
   "metadata": {
    "id": "0vVfDTDf-mFl"
   },
   "source": [
    "\n",
    "### Módulos\n",
    "\n",
    "Un módulo en Python es un archivo que contiene definiciones de variables, funciones y clases que se pueden utilizar en otros programas. En otras palabras, un módulo es una forma de organizar y reutilizar el código en Python.\n",
    "\n",
    "Vamos a ver mas sobre módulos y vamos a trabajar bastante con algunos módulos especificos (NumPy será el primero!) que son muy útiles. "
   ]
  },
  {
   "cell_type": "markdown",
   "metadata": {
    "id": "xgQBF-qcAm6q"
   },
   "source": [
    "Los módulos tienen que ser importados! O sea, debemos decirle a nuestro código que otros archivos queremos utilizar.  \n",
    "\n",
    "Veamos un ejemplo con el módulo [math](https://docs.python.org/es/3/library/math.html) que utilizamos cuando queremos usar funciones matemáticas."
   ]
  },
  {
   "cell_type": "code",
   "execution_count": 3,
   "metadata": {
    "id": "I2TbuwV6AmXC"
   },
   "outputs": [],
   "source": [
    "# importo el módulo math\n",
    "import math                        # import significa importar en ingles y math viene de \n",
    "                                   # mathematics que quiere decir matemática en ingles."
   ]
  },
  {
   "cell_type": "markdown",
   "metadata": {
    "id": "s-Vu4rkbCDZA"
   },
   "source": [
    "Para usar las funciones y variables del módulo `math` las llamamos el nombre del módulo como \"prefijo\", por ejemplo, el número π.\n",
    "\n",
    "---\n",
    "El número Pi, o π es un número irracional que se define como la relación entre la longitud de una circunferencia (perímetro) y su diámetro. Sus primeras cifras son: \n",
    "π = 3,141592653.\n",
    "Más información [aquí](https://es.wikipedia.org/wiki/N%C3%BAmero_%CF%80).\n",
    "\n"
   ]
  },
  {
   "cell_type": "code",
   "execution_count": 4,
   "metadata": {
    "id": "2oKInaIyDiWQ"
   },
   "outputs": [
    {
     "data": {
      "text/plain": [
       "3.141592653589793"
      ]
     },
     "execution_count": 4,
     "metadata": {},
     "output_type": "execute_result"
    }
   ],
   "source": [
    "# pi\n",
    "math.pi"
   ]
  },
  {
   "cell_type": "code",
   "execution_count": 5,
   "metadata": {
    "id": "AdsRMvjUB8-G"
   },
   "outputs": [
    {
     "data": {
      "text/plain": [
       "5.0"
      ]
     },
     "execution_count": 5,
     "metadata": {},
     "output_type": "execute_result"
    }
   ],
   "source": [
    "# raiz cuadrada de 25 \n",
    "math.sqrt(25)"
   ]
  },
  {
   "cell_type": "markdown",
   "metadata": {
    "id": "YIaCjkY9FGQ6"
   },
   "source": [
    "Algunas veces los nombres de los módulos son largos, y no queremos estar siempre escribiendo todo el nombre, entonces, podemos \"renombrarlos\" por ejemplo: "
   ]
  },
  {
   "cell_type": "code",
   "execution_count": 6,
   "metadata": {
    "id": "_1SFHlo0Fj73"
   },
   "outputs": [
    {
     "data": {
      "text/plain": [
       "6.0"
      ]
     },
     "execution_count": 6,
     "metadata": {},
     "output_type": "execute_result"
    }
   ],
   "source": [
    "import math as m        # as quiere dedir como, entonces le estamos diciendo:\n",
    "                        # importa math como m\n",
    "\n",
    "# para usar el modulo basta llamarlo con m\n",
    "m.sqrt(36)"
   ]
  },
  {
   "cell_type": "code",
   "execution_count": 7,
   "metadata": {
    "id": "Sd5k0bBWGXmO"
   },
   "outputs": [
    {
     "data": {
      "text/plain": [
       "-1.0"
      ]
     },
     "execution_count": 7,
     "metadata": {},
     "output_type": "execute_result"
    }
   ],
   "source": [
    "x = m.pi\n",
    "m.cos(x)"
   ]
  },
  {
   "cell_type": "markdown",
   "metadata": {
    "id": "tHQ7bUYlF6TM"
   },
   "source": [
    "Algunas veces no queremos usar *todo* el módulo, sino que sabemos que nos interesa una(s) función(es) o variable(s) específicas. Entonces, podemos importar solo una parte haciendo:"
   ]
  },
  {
   "cell_type": "code",
   "execution_count": 8,
   "metadata": {
    "executionInfo": {
     "elapsed": 7,
     "status": "ok",
     "timestamp": 1678715196884,
     "user": {
      "displayName": "Ivan Pedron",
      "userId": "10160945552974466654"
     },
     "user_tz": 180
    },
    "id": "D9xmLnR_Hl-b"
   },
   "outputs": [],
   "source": [
    "# importo las funciones trigonometricas seno y coseno\n",
    "from math import sin, cos               # from significa de en ingles"
   ]
  },
  {
   "cell_type": "markdown",
   "metadata": {
    "id": "wdb__iTeIdO4"
   },
   "source": [
    "Ahora las funciones `sin()` y `cos()` son acessibles localmente, o sea no necesitamos el prefijo para usarlas."
   ]
  },
  {
   "cell_type": "code",
   "execution_count": 9,
   "metadata": {
    "id": "9xs9dh2wMKA4"
   },
   "outputs": [
    {
     "name": "stdout",
     "output_type": "stream",
     "text": [
      "-2.0\n"
     ]
    }
   ],
   "source": [
    "r = 2\n",
    "theta = m.pi\n",
    "\n",
    "x = r * cos(theta)\n",
    "#y = r * sin(theta)\n",
    "\n",
    "print(x)"
   ]
  },
  {
   "cell_type": "markdown",
   "metadata": {
    "id": "4LFnREu2NJa5"
   },
   "source": [
    "El comando `from math import cos, sin`, aunque sólo hace accesibles las funciones `sin` y `cos`, de todos modos carga todo el módulo y lo ejecuta. La única diferencia es que copia los nombres de las funciones `sin()` y `cos()` al namespace local."
   ]
  },
  {
   "cell_type": "markdown",
   "metadata": {
    "id": "9zOqLfGML3ZA"
   },
   "source": [
    "Si usás from `math import *` vas a importar todas las funciones y constantes del módulo `math` como si estuvieran definidas localmente. No es coveniente hacer esto ya que se pierden las ventajas que da trabajar de esta manera. \n",
    "\n",
    "Importante: Estas distintas formas de usar `import` no modifican el funcionamiento de un módulo.\n",
    "\n"
   ]
  },
  {
   "cell_type": "markdown",
   "metadata": {
    "id": "sf1Xl3awNUYy"
   },
   "source": [
    "## Manipulación de archivos"
   ]
  },
  {
   "cell_type": "markdown",
   "metadata": {},
   "source": [
    "Si trabajamos en línea con Google Colab, para manipular archivos necesitaremos permitirle acceder a nuestro Google Drive. En la siguiente celda mostramos cómo hacerlo. Colab nos va a pedir permisos para acceder a nuestros archivos:"
   ]
  },
  {
   "cell_type": "code",
   "execution_count": 10,
   "metadata": {
    "id": "CLBeR7EXNqIK"
   },
   "outputs": [
    {
     "ename": "ModuleNotFoundError",
     "evalue": "No module named 'google.colab'",
     "output_type": "error",
     "traceback": [
      "\u001b[1;31m---------------------------------------------------------------------------\u001b[0m",
      "\u001b[1;31mModuleNotFoundError\u001b[0m                       Traceback (most recent call last)",
      "Cell \u001b[1;32mIn[10], line 2\u001b[0m\n\u001b[0;32m      1\u001b[0m \u001b[38;5;66;03m# Conectar Drive a Colab\u001b[39;00m\n\u001b[1;32m----> 2\u001b[0m \u001b[38;5;28;01mfrom\u001b[39;00m \u001b[38;5;21;01mgoogle\u001b[39;00m\u001b[38;5;21;01m.\u001b[39;00m\u001b[38;5;21;01mcolab\u001b[39;00m \u001b[38;5;28;01mimport\u001b[39;00m drive          \u001b[38;5;66;03m# aqui le decimos al modulo google.colab que importe drive \u001b[39;00m\n\u001b[0;32m      3\u001b[0m drive\u001b[38;5;241m.\u001b[39mmount(\u001b[38;5;124m\"\u001b[39m\u001b[38;5;124m/content/drive/\u001b[39m\u001b[38;5;124m\"\u001b[39m)          \u001b[38;5;66;03m# y de drive vamos a usar la función mount que en \u001b[39;00m\n\u001b[0;32m      4\u001b[0m                                         \u001b[38;5;66;03m# ingles significa montar.\u001b[39;00m\n",
      "\u001b[1;31mModuleNotFoundError\u001b[0m: No module named 'google.colab'"
     ]
    }
   ],
   "source": [
    "# Conectar Drive a Colab\n",
    "from google.colab import drive          # aqui le decimos al modulo google.colab que importe drive \n",
    "drive.mount(\"/content/drive/\")          # y de drive vamos a usar la función mount que en \n",
    "                                        # ingles significa montar."
   ]
  },
  {
   "cell_type": "markdown",
   "metadata": {
    "id": "01KIDezaOkdZ"
   },
   "source": [
    "---\n",
    "(**Nota:** aquellos que trabajan localmente de sus máquinas, no hace falta que hagan esto. Guarden los archivos localmente en su máquina en la manera usual. Si les surge algun problema, no duden en consultar! )\n",
    "\n"
   ]
  },
  {
   "cell_type": "markdown",
   "metadata": {
    "id": "wnUof0inO5wb"
   },
   "source": [
    "### Navegando directorios\n",
    "\n",
    "Para manipular archivos y directorios, vamos a usar el módulos `os`, que está especialmente diseñado para este tipo de tareas. \n",
    "\n",
    "Lo vamos a importar y pedirle que nos muestre en el directorio en el que estamos parados en este momento:"
   ]
  },
  {
   "cell_type": "code",
   "execution_count": 5,
   "metadata": {
    "id": "1sYBSXfePXUv"
   },
   "outputs": [
    {
     "name": "stdout",
     "output_type": "stream",
     "text": [
      "d:\\Proyectos\\UTN\\Fundamentos de informática\\Clases\\Repo Programación\\Fundamentos-de-informatica\\Clase 4\\Notebooks\n"
     ]
    }
   ],
   "source": [
    "import os\n",
    "\n",
    "# Le pido el \"cwd = current-working-directory\" que en ingles quiere decir: \n",
    "# dictorio de trabajo actual\n",
    "print(os.getcwd())"
   ]
  },
  {
   "cell_type": "markdown",
   "metadata": {
    "id": "aYpdiiC8P4Bc"
   },
   "source": [
    "También podemos pedirle que nos muestre qué hay en ese directorio. El `list.dir(ruta)` de `os` nos devuelve una lista con todos los entradas en el directorio especificado por `ruta`. Si no le pasamos nada, usa el directorio actual de trabajo:"
   ]
  },
  {
   "cell_type": "code",
   "execution_count": null,
   "metadata": {
    "id": "M4xA8RedQC_r"
   },
   "outputs": [],
   "source": [
    "print(os.listdir())"
   ]
  },
  {
   "cell_type": "markdown",
   "metadata": {
    "id": "bVVM-oj3RQUd"
   },
   "source": [
    "Para cambiar el directorio actual, podemos usar `os.chdir()` (change directory, que en inglés significa cambiar directorio). \n",
    "\n",
    "Para especificar un directorio lo podemos hacer de dos maneras: especificando la ruta *absoluta* (la ruta completa) o la *relativa* al directorio actual. En el segundo caso, comenzamos la ruta con un punto (`'.'`).\n"
   ]
  },
  {
   "cell_type": "code",
   "execution_count": null,
   "metadata": {
    "id": "wwX6X5UFRROh"
   },
   "outputs": [],
   "source": [
    "# Cambio el directorio a /content/drive\n",
    "os.chdir('./drive') # ruta relativa al cwd - recordar que cuando hicimos print(os.getcwd()) nos dijo que estabamos en content\n",
    "os.chdir('/content/drive') # ruta absoluta en el drive\n",
    "\n",
    "# Le pido que me muestre lo que hay\n",
    "print(os.listdir())"
   ]
  },
  {
   "cell_type": "markdown",
   "metadata": {
    "id": "YRNH5NPNRpM_"
   },
   "source": [
    "---\n",
    "***Información complementaria***\n",
    "\n",
    "Los archivos que empiezan con un punto adelante: .nombre_del_archivo se llaman archivos ocultos y como el nombre lo indica, no son normalmente mostrados, pero `listdir()` los incluye. \n",
    "\n",
    "(*) Mas información al final de este notebook.\n"
   ]
  },
  {
   "cell_type": "markdown",
   "metadata": {
    "id": "kTul9RzTVKDB"
   },
   "source": [
    "Si queremos volver un directorio hacia atrás, usamos dos puntos seguidos (`'..'`):"
   ]
  },
  {
   "cell_type": "code",
   "execution_count": null,
   "metadata": {
    "id": "oZHO4_ldVMPJ"
   },
   "outputs": [],
   "source": [
    "# Vuelvo a /content\n",
    "os.chdir('../') # ruta relativa al cwd, vuelvo un nivel atrás\n",
    "\n",
    "# Le pido que me muestre lo que hay\n",
    "print(os.listdir())"
   ]
  },
  {
   "cell_type": "markdown",
   "metadata": {
    "id": "fYiOZ1IAiXBH"
   },
   "source": [
    "También es posible crear un nuevo directorio y para eso usaremos el comando `mkdir()`.\n",
    "\n",
    "Esta función toma como argumento el path del nuevo directorio. Si no se especifica el path absoluto, el directorio nuevo se crea en el directorio de trabajo actual.\n"
   ]
  },
  {
   "cell_type": "code",
   "execution_count": null,
   "metadata": {
    "id": "8RcpMX8sitiF"
   },
   "outputs": [],
   "source": [
    "os.chdir('/content/drive/My Drive/Colab Notebooks/Data')\n",
    "print(os.listdir())\n",
    "# creo el directorio Test dentro de Data\n",
    "os.mkdir('Carpeta')          \n",
    "print(os.listdir())"
   ]
  },
  {
   "cell_type": "markdown",
   "metadata": {
    "id": "cWDw-sk1kOu5"
   },
   "source": [
    "También es posible renombrar un archivo o un directorio con la función `rename()`.\n",
    "\n"
   ]
  },
  {
   "cell_type": "code",
   "execution_count": null,
   "metadata": {
    "id": "PIH3QjZXlagt"
   },
   "outputs": [],
   "source": [
    "os.rename('Carpeta','Carpeta_Nueva') # cambio el nombre de carpeta\n",
    "os.listdir()"
   ]
  },
  {
   "cell_type": "markdown",
   "metadata": {
    "id": "C4Iu0E_XmY5B"
   },
   "source": [
    "La función `rename()` también es útil para mover un archivo o directorio, cambiando la ruta (path) de acceso al archivo. \n",
    "\n",
    "Probá hacer esto:"
   ]
  },
  {
   "cell_type": "code",
   "execution_count": null,
   "metadata": {
    "id": "X5dg76s3mhtu"
   },
   "outputs": [],
   "source": [
    "os.rename('data.txt', os.path.join('Carpeta_Nueva', 'data.txt')) # cambio la ruta\n",
    "\n",
    "print(os.listdir())\n",
    "\n",
    "os.listdir('Carpeta_Nueva')                              "
   ]
  },
  {
   "cell_type": "markdown",
   "metadata": {
    "id": "hvcXvxmEpFZC"
   },
   "source": [
    "El archivo `data.txt` ahora se encuentra en `'Carpeta_Nueva'`.\n",
    "\n",
    "*Atención:* `rename()` funciona cuando el archivo (o directorio) no se cambia de disco (o más específicamente de una partición). Si queremos mover un archivo del disco a un pendrive, por ejemplo, lo correcto es copiar el archivo al pendrive y luego borrarlo del disco. `rename()` no hace esto: no copia y borra, simplemente cambia el nombre. Para renombrar en caso que se pueda o copiar y borrar si lo primero no es posible, podés usar la función `move()` del módulo `shutil`. Pero esto no es algo que vamos a ver aquí."
   ]
  },
  {
   "cell_type": "markdown",
   "metadata": {
    "id": "2f4Sx9aSqcha"
   },
   "source": [
    "Finalmente, podemos eliminar un archivo usando el módulo `remove()` y usando el módulo `rmdir()` para borrar un directorio vacío. \n",
    "\n",
    "Ahora queremos borrar el archivo `data.txt` y luego, como el directorio está vacío podemos borrar el directorio `Carpeta_Nueva`."
   ]
  },
  {
   "cell_type": "code",
   "execution_count": null,
   "metadata": {
    "id": "RBG1AKoLsC8O"
   },
   "outputs": [],
   "source": [
    "os.chdir('Carpeta_Nueva')\n",
    "print(os.listdir())\n",
    "os.remove('data.txt')\n",
    "print(os.listdir())"
   ]
  },
  {
   "cell_type": "code",
   "execution_count": null,
   "metadata": {
    "id": "vdml06bNsyO8"
   },
   "outputs": [],
   "source": [
    "os.chdir('../')\n",
    "os.rmdir('Carpeta_Nueva')\n",
    "os.listdir()"
   ]
  },
  {
   "cell_type": "markdown",
   "metadata": {
    "id": "bcywZZeOa4B2"
   },
   "source": [
    "### Abriendo archivos\n",
    "\n",
    "Vamos a trabajar con un archivo `csv` de una base de datos sobre incendios forestales en parques nacionales (cantidad y causas) que se puede descargar en este [link](https://datos.gob.ar/dataset/ambiente-incendios-forestales/archivo/ambiente_6c3a726b-f2d0-43d4-81ac-72e55a84a6a3)\n",
    "\n",
    "Primero veamos la forma más básica de abrir un archivo, con el comando `open()`. Para especificar la locación del archivo, podemos pasarle la ruta completa, o cambiar el directorio de trabajo a la carpeta Data."
   ]
  },
  {
   "cell_type": "code",
   "execution_count": null,
   "metadata": {
    "id": "jeWygGwMVMMJ"
   },
   "outputs": [],
   "source": [
    "# Ruta completa\n",
    "f = open('/content/drive/My Drive/Colab Notebooks/Data/concrete.csv')\n",
    "data = f.read()\n",
    "f.close()\n"
   ]
  },
  {
   "cell_type": "code",
   "execution_count": null,
   "metadata": {
    "id": "VmdHXRstVMI0"
   },
   "outputs": [],
   "source": [
    "# Cambiando el directorio\n",
    "os.chdir('/content/drive/MyDrive/Colab Notebooks/Data/') # Uso absoluto para no tener problemas\n",
    "f = open('concrete.csv')\n",
    "data = f.read()\n",
    "f.close()"
   ]
  },
  {
   "cell_type": "markdown",
   "metadata": {
    "id": "AbwEQ8HPlPjj"
   },
   "source": [
    "Hay algunas cosas para notar:\n",
    "\n",
    "1. Usamos el método read para almacenar el contenido en una variable tipo string. \n",
    "2. Luego de usar el archivo lo cerramos. Es importante cerrar adecuadamente los archivos y es bastante fácil olvidarse (puede que el programa termine y no se termine de guardar bien). \n",
    "\n",
    "Una forma de evitar no cerrar el archivo es abrirlo con el comando `with` de la siguiente forma."
   ]
  },
  {
   "cell_type": "code",
   "execution_count": null,
   "metadata": {
    "id": "W543NT1zVME2"
   },
   "outputs": [],
   "source": [
    "with open('incendios-cantidad-causas-parques-nacionales_2022.csv') as f:\n",
    "  data = f.read()\n",
    "\n",
    "# El archivo ya se cerro al salir del bloque!"
   ]
  },
  {
   "cell_type": "markdown",
   "metadata": {},
   "source": [
    "Si trabajamos de forma local con un IDE (VS Code, Pycharm, etc.) podemos colocar la ruta de nuestro sistema de archivos."
   ]
  },
  {
   "cell_type": "code",
   "execution_count": 29,
   "metadata": {},
   "outputs": [
    {
     "name": "stdout",
     "output_type": "stream",
     "text": [
      "True\n"
     ]
    }
   ],
   "source": [
    "ruta = 'D:\\\\concrete.csv'\n",
    "print(os.path.exists(ruta)) \n",
    "f = open(ruta)\n",
    "data = f.read()\n",
    "f.close()"
   ]
  },
  {
   "cell_type": "code",
   "execution_count": 30,
   "metadata": {},
   "outputs": [],
   "source": [
    "os.chdir('D:\\\\') # ruta absoluta en el drive"
   ]
  },
  {
   "cell_type": "markdown",
   "metadata": {
    "id": "JwJHzfjamdbQ"
   },
   "source": [
    "Esto cierra automáticamente el archivo cuando se termina de ejecutar el bloque indentado. "
   ]
  },
  {
   "cell_type": "markdown",
   "metadata": {
    "id": "0bccUNBamsek"
   },
   "source": [
    "### Comandos usuales para leer un archivo\n",
    "\n",
    "Para leer un archivo entero, de una sola vez, como cadena:"
   ]
  },
  {
   "cell_type": "code",
   "execution_count": 31,
   "metadata": {
    "id": "Xp2Bp7IqVMAK"
   },
   "outputs": [],
   "source": [
    "with open('concrete.csv', 'rt') as file:\n",
    "    data = file.read()\n",
    "    # `data` es una cadena con *todo* el texto en `'incendios-cantidad-causas-parques-nacionales_2022.csv'`"
   ]
  },
  {
   "cell_type": "markdown",
   "metadata": {
    "id": "c6Tn1qRTnJnN"
   },
   "source": [
    "Aquí, el parámetro adicional `'rt'` especifica que estamos abriendo el archivo para lectura de texto ('r' de read, 't' de text). \n",
    "\n",
    "Para leer línea por línea iterativamente:"
   ]
  },
  {
   "cell_type": "code",
   "execution_count": 20,
   "metadata": {
    "id": "OV3PwNXTVLvO"
   },
   "outputs": [
    {
     "ename": "SyntaxError",
     "evalue": "incomplete input (3878989984.py, line 3)",
     "output_type": "error",
     "traceback": [
      "\u001b[1;36m  Cell \u001b[1;32mIn[20], line 3\u001b[1;36m\u001b[0m\n\u001b[1;33m    # Procesar la línea\u001b[0m\n\u001b[1;37m                       ^\u001b[0m\n\u001b[1;31mSyntaxError\u001b[0m\u001b[1;31m:\u001b[0m incomplete input\n"
     ]
    }
   ],
   "source": [
    "with open('concrete.csv', 'rt') as file:\n",
    "    for line in file:\n",
    "        # Procesar la línea"
   ]
  },
  {
   "cell_type": "markdown",
   "metadata": {
    "id": "eVTDHtMioB-w"
   },
   "source": [
    "Ahora que sabemos cómo abrir un archivo vamos a aprender cómo explorar el archivo. Por ejemplo, vamos a mirar las primeras 3 lineas:"
   ]
  },
  {
   "cell_type": "code",
   "execution_count": null,
   "metadata": {
    "id": "Z14454uSptJ5"
   },
   "outputs": [],
   "source": [
    "# PARA COLAB\n",
    "import os\n",
    "# Cambio directorio\n",
    "os.chdir('/content/drive/MyDrive/Colab Notebooks/Data/')\n"
   ]
  },
  {
   "cell_type": "code",
   "execution_count": 32,
   "metadata": {},
   "outputs": [
    {
     "name": "stdout",
     "output_type": "stream",
     "text": [
      "cement,slag,ash,water,superplastic,coarseagg,fineagg,age,strength\n",
      "\n",
      "141.3,212,0,203.5,0,971.8,748.5,28,29.89\n",
      "\n",
      "168.9,42.2,124.3,158.3,10.8,1080.8,796.2,14,23.51\n",
      "\n"
     ]
    }
   ],
   "source": [
    "# PARA ARCHIVO LOCAL\n",
    "with open('concrete.csv') as f:\n",
    "  i = 0\n",
    "  for linea in f:\n",
    "    print(linea)\n",
    "    if i >= 2:\n",
    "      break\n",
    "    i += 1"
   ]
  },
  {
   "cell_type": "markdown",
   "metadata": {},
   "source": [
    "La primera línea es el encabezado, que nos indica qué es cada columna. Después, cada línea corresponde a una receta. Si indagamos un poco más en el archivo \"Leeme!\", vemos que contiene lo siguiente:\n"
   ]
  },
  {
   "cell_type": "markdown",
   "metadata": {},
   "source": [
    "### Informatcion de las columnas\n",
    "\n",
    "- **Cement**: measured in kg in a m³ mixture  \n",
    "- **Blast**: measured in kg in a m³ mixture  \n",
    "- **Fly ash**: measured in kg in a m³ mixture  \n",
    "- **Water**: measured in kg in a m³ mixture  \n",
    "- **Superplasticizer**: measured in kg in a m³ mixture  \n",
    "- **Coarse Aggregate**: measured in kg in a m³ mixture  \n",
    "- **Fine Aggregate**: measured in kg in a m³ mixture  \n",
    "- **Age**: day (1 ~ 365)  \n",
    "- **Concrete compressive strength**: measured in MPa  "
   ]
  },
  {
   "cell_type": "markdown",
   "metadata": {
    "id": "12Aw2FzmraKN"
   },
   "source": [
    "Este archivo solo tiene un tipo de datos (númerico), hay archivos que pueden tener diferente tipos de datos, ya vamos a ver/trabajar con otros ejemplos, pero para comenzar, usamos este que es más simple."
   ]
  },
  {
   "cell_type": "markdown",
   "metadata": {
    "id": "NP2upd1Vrpl3"
   },
   "source": [
    "#### Archivos CSV \n",
    "\n",
    "CSV son las siglas de \"Comma-Separated Values\" que en español significa \"Valores Separados por Comas\".\n",
    "\n",
    "El formato CSV es muy común en la importación y exportación de datos en aplicaciones de hojas de cálculo y bases de datos. Es un formato muy simple y fácil de entender, lo que lo hace muy popular en el intercambio de datos entre diferentes aplicaciones y sistemas.\n",
    "\n",
    "Podríamos procesar a mano los datos, pero para facilitarnos un poco la tarea usamos el módulo `csv`."
   ]
  },
  {
   "cell_type": "code",
   "execution_count": 33,
   "metadata": {
    "id": "wZ_cdY3ZnSIW"
   },
   "outputs": [
    {
     "name": "stdout",
     "output_type": "stream",
     "text": [
      "['cement', 'slag', 'ash', 'water', 'superplastic', 'coarseagg', 'fineagg', 'age', 'strength']\n",
      "['229.7', '0', '118.2', '195.2', '6.1', '1028.1', '757.6', '3', '13.36']\n",
      "<class 'list'>\n"
     ]
    }
   ],
   "source": [
    "import csv\n",
    "\n",
    "with open('concrete.csv') as f:\n",
    "  filas = csv.reader(f)\n",
    "  encabezados = next(filas)\n",
    "  lineas = []\n",
    "  for fila in filas:\n",
    "    lineas.append(fila)\n",
    "\n",
    "print(encabezados)\n",
    "print(lineas[20])\n",
    "print(type(lineas[0]))"
   ]
  },
  {
   "cell_type": "markdown",
   "metadata": {
    "id": "AuRdFJR-sFBU"
   },
   "source": [
    "El `csv.reader()` ya preprocesa un poco el archivo e interpreta cada línea como una lista de valores (separando por las comas). En el código anterior, con la función `next()` salteamos la primera fila y la guardamos en la variable encabezados. Luego, gardamos cada fila en una lista `lineas`."
   ]
  },
  {
   "cell_type": "markdown",
   "metadata": {
    "id": "zk8Fa-lruC-J"
   },
   "source": [
    "Basándote en el código anterior, vamos ahora hacer una lista que contenga el los valores de agua (Water) para los casos en quela resistencia (strength) tenga un valor entre 25 y 30 MPa\n"
   ]
  },
  {
   "cell_type": "code",
   "execution_count": 39,
   "metadata": {
    "id": "qzAtgcL2nSFV"
   },
   "outputs": [
    {
     "name": "stdout",
     "output_type": "stream",
     "text": [
      "['0', '5.5', '9', '0', '0', '8', '0', '6', '12.1', '2.2', '11.9', '9.9', '8.7', '15', '4.5', '7.6', '0', '0', '11.7', '0', '6.7', '0', '10.4', '6', '0', '0', '8', '0', '0', '0', '6', '6', '8', '8', '0', '6.3', '0', '10.3', '8.5', '10', '0', '0', '0', '7.5', '0', '0', '10.4', '9.2', '2', '10.9', '0', '23.4', '14.3', '0', '0', '5.7', '4.6', '0', '8', '0', '7', '0', '3.1', '0', '13.9', '5.8', '9.7', '7.8', '4.5', '0', '0', '7', '7.5', '11.3', '0', '0', '0', '0', '5.8', '0', '12.8', '4.1', '7', '8.6', '3.9', '0', '8', '0', '15.9', '15', '0', '8.4', '4.5', '3.9', '0', '0', '0', '11.6', '8', '5.3', '8', '0', '8']\n"
     ]
    }
   ],
   "source": [
    "with open('concrete.csv') as f:\n",
    "  filas = csv.reader(f)\n",
    "  encabezados = next(filas)\n",
    "  lineas = []\n",
    "  for fila in filas:\n",
    "    lineas.append(fila)\n",
    "\n",
    "  water = []\n",
    "  for l in lineas:\n",
    "    if float(l[8])>25 and float(l[8])<30:\n",
    "      water.append(l[4])\n",
    "\n",
    "print(water)"
   ]
  },
  {
   "cell_type": "markdown",
   "metadata": {
    "id": "x53lFPMV0eFo"
   },
   "source": [
    "#### Archivo de texto \n",
    "\n",
    "Si tenemos un archivo de texto cualquier, podemos leerlo usando las funciones `open()` y `split()`"
   ]
  },
  {
   "cell_type": "code",
   "execution_count": 40,
   "metadata": {
    "id": "JppKSexayifU"
   },
   "outputs": [
    {
     "name": "stdout",
     "output_type": "stream",
     "text": [
      "['cement', 'slag', 'ash', 'water', 'superplastic', 'coarseagg', 'fineagg', 'age', 'strength']\n",
      "['141.3', '212', '0', '203.5', '0', '971.8', '748.5', '28', '29.89']\n",
      "['168.9', '42.2', '124.3', '158.3', '10.8', '1080.8', '796.2', '14', '23.51']\n",
      "['250', '0', '95.7', '187.4', '5.5', '956.9', '861.2', '28', '29.22']\n",
      "['266', '114', '0', '228', '0', '932', '670', '28', '45.85']\n",
      "['154.8', '183.4', '0', '193.3', '9.1', '1047.4', '696.7', '28', '18.29']\n",
      "['255', '0', '0', '192', '0', '889.8', '945', '90', '21.86']\n",
      "['166.8', '250.2', '0', '203.5', '0', '975.6', '692.6', '7', '15.75']\n",
      "['251.4', '0', '118.3', '188.5', '6.4', '1028.4', '757.7', '56', '36.64']\n",
      "['296', '0', '0', '192', '0', '1085', '765', '28', '21.65']\n",
      "['155', '184', '143', '194', '9', '880', '699', '28', '28.99']\n",
      "['151.8', '178.1', '138.7', '167.5', '18.3', '944', '694.6', '28', '36.35']\n",
      "['173', '116', '0', '192', '0', '946.8', '856.8', '3', '6.94']\n",
      "['385', '0', '0', '186', '0', '966', '763', '14', '27.92']\n",
      "['237.5', '237.5', '0', '228', '0', '932', '594', '7', '26.26']\n",
      "['167', '187', '195', '185', '7', '898', '636', '28', '23.89']\n",
      "['213.8', '98.1', '24.5', '181.7', '6.7', '1066', '785.5', '100', '49.97']\n",
      "['237.5', '237.5', '0', '228', '0', '932', '594', '28', '30.08']\n",
      "['336', '0', '0', '182', '3', '986', '817', '28', '44.86']\n",
      "['190.7', '0', '125.4', '162.1', '7.8', '1090', '804', '3', '15.04']\n",
      "['312.7', '0', '0', '178.1', '8', '999.7', '822.2', '28', '25.1']\n",
      "['229.7', '0', '118.2', '195.2', '6.1', '1028.1', '757.6', '3', '13.36']\n",
      "['228', '342.1', '0', '185.7', '0', '955.8', '674.3', '7', '21.92']\n",
      "['236', '157', '0', '192', '0', '972.6', '749.1', '7', '20.42']\n",
      "['132', '207', '161', '179', '5', '867', '736', '28', '33.3']\n",
      "['331', '0', '0', '192', '0', '1025', '821', '28', '31.74']\n",
      "['310', '143', '0', '168', '10', '914', '804', '28', '45.3']\n",
      "['304', '76', '0', '228', '0', '932', '670', '90', '49.19']\n",
      "['425', '106.3', '0', '153.5', '16.5', '852.1', '887.1', '91', '65.2']\n",
      "['166.1', '0', '163.3', '176.5', '4.5', '1058.6', '780.1', '28', '21.54']\n",
      "['255', '99', '77', '189', '6', '919', '749', '28', '33.8']\n",
      "['339', '0', '0', '197', '0', '968', '781', '28', '32.04']\n",
      "['475', '0', '0', '228', '0', '932', '594', '28', '39.29']\n",
      "['145.7', '172.6', '0', '181.9', '3.4', '985.8', '816.8', '28', '23.74']\n",
      "['313', '145', '0', '127', '8', '1000', '822', '28', '44.52']\n",
      "['331', '0', '0', '192', '0', '1025', '821', '90', '37.91']\n",
      "['178', '129.8', '118.6', '179.9', '3.6', '1007.3', '746.8', '28', '39.16']\n",
      "['165', '0', '143.6', '163.8', '0', '1005.6', '900.9', '14', '16.88']\n",
      "['277.2', '97.8', '24.5', '160.7', '11.2', '1061.7', '782.5', '14', '47.71']\n",
      "['325', '0', '0', '184', '0', '1063', '783', '7', '17.54']\n",
      "['167', '75.4', '167', '164', '7.9', '1007.3', '770.1', '28', '41.41']\n",
      "['194.7', '0', '100.5', '170.2', '7.5', '998', '901.8', '14', '24.28']\n",
      "['246.8', '0', '125.1', '143.3', '12', '1086.8', '800.9', '56', '60.32']\n",
      "['382', '0', '0', '185', '0', '1047', '739', '28', '37.42']\n",
      "['149', '118', '92', '183', '7', '953', '780', '28', '23.52']\n",
      "['531.3', '0', '0', '141.8', '28.2', '852.1', '893.7', '91', '59.2']\n",
      "['387', '20', '94', '157', '11.6', '938', '845', '56', '61.46']\n",
      "['193.5', '290.2', '0', '185.7', '0', '998.2', '704.3', '7', '17.2']\n",
      "['326', '0', '138', '199', '11', '801', '792', '28', '40.68']\n",
      "['337.9', '189', '0', '174.9', '9.5', '944.7', '755.8', '28', '49.9']\n",
      "['425', '106.3', '0', '153.5', '16.5', '852.1', '887.1', '3', '33.4']\n",
      "['200', '200', '0', '190', '0', '1145', '660', '28', '49.25']\n",
      "['331', '0', '0', '192', '0', '978', '825', '180', '39']\n",
      "['218.9', '0', '124.1', '158.5', '11.3', '1078.7', '794.9', '56', '37.27']\n",
      "['234', '156', '0', '189', '5.9', '981', '760', '28', '39.3']\n",
      "['309.9', '142.8', '111.2', '167.8', '22.1', '913.9', '651.2', '28', '38.22']\n",
      "['350', '0', '0', '186', '0', '1050', '770', '7', '20.28']\n",
      "['182', '45.2', '122', '170.2', '8.2', '1059.4', '780.7', '100', '48.67']\n",
      "['480', '0', '0', '192', '0', '936.2', '712.2', '7', '34.57']\n",
      "['295.7', '0', '95.6', '171.5', '8.9', '955.1', '859.2', '14', '35.23']\n",
      "['250', '0', '95.7', '187.4', '5.5', '956.9', '861.2', '100', '42.35']\n",
      "['178', '129.8', '118.6', '179.9', '3.6', '1007.3', '746.8', '3', '20.73']\n",
      "['233.8', '0', '94.6', '197.9', '4.6', '947', '852.2', '3', '10.38']\n",
      "['194.7', '0', '100.5', '165.6', '7.5', '1006.4', '905.9', '100', '37.34']\n",
      "['379.5', '151.2', '0', '153.9', '15.9', '1134.3', '605', '56', '54.9']\n",
      "['332.5', '142.5', '0', '228', '0', '932', '594', '365', '41.05']\n",
      "['350', '0', '0', '203', '0', '974', '775', '56', '29.98']\n",
      "['237', '92', '71', '247', '6', '853', '695', '28', '28.63']\n",
      "['238.1', '0', '94.1', '186.7', '7', '949.9', '847', '100', '44.3']\n",
      "['295.7', '0', '95.6', '171.5', '8.9', '955.1', '859.2', '100', '52.04']\n",
      "['323.7', '282.8', '0', '183.8', '10.3', '942.7', '659.9', '7', '49.8']\n",
      "['200', '133', '0', '192', '0', '965.4', '806.2', '3', '11.41']\n",
      "['342', '38', '0', '228', '0', '932', '670', '90', '50.46']\n",
      "['388.6', '97.1', '0', '157.9', '12.1', '852.1', '925.7', '3', '28.1']\n",
      "['147.8', '175.1', '0', '171.2', '2.2', '1000', '828.5', '28', '26.92']\n",
      "['290.4', '0', '96.2', '168.1', '9.4', '961.2', '865', '56', '45.08']\n",
      "['500', '0', '0', '200', '0', '1125', '613', '14', '36.94']\n",
      "['284', '15', '141', '179', '5.5', '842', '801', '7', '24.13']\n",
      "['165', '128.5', '132.1', '175.1', '8.1', '1005.8', '746.6', '3', '19.42']\n",
      "['218.2', '54.6', '123.8', '140.8', '11.9', '1075.7', '792.7', '3', '27.42']\n",
      "['168.9', '42.2', '124.3', '158.3', '10.8', '1080.8', '796.2', '56', '39.15']\n",
      "['190.3', '0', '125.2', '161.9', '9.9', '1088.1', '802.6', '28', '28.47']\n",
      "['116', '173', '0', '192', '0', '909.8', '891.9', '90', '31.02']\n",
      "['277', '0', '0', '191', '0', '968', '856', '90', '31.25']\n",
      "['376', '0', '0', '214.6', '0', '1003.5', '762.4', '100', '43.06']\n",
      "['236', '0', '0', '194', '0', '968', '885', '14', '12.84']\n",
      "['273', '0', '90', '199', '11', '931', '762', '28', '32.24']\n",
      "['500', '0', '0', '140', '4', '966', '853', '28', '67.57']\n",
      "['212.5', '0', '100.4', '159.3', '8.7', '1007.8', '903.6', '14', '26.31']\n",
      "['362.6', '189', '0', '164.9', '11.6', '944.7', '755.8', '3', '35.3']\n",
      "['275.1', '0', '121.4', '159.5', '9.9', '1053.6', '777.5', '3', '23.8']\n",
      "['139.6', '209.4', '0', '192', '0', '1047', '806.9', '7', '14.59']\n",
      "['362.6', '189', '0', '164.9', '11.6', '944.7', '755.8', '7', '55.9']\n",
      "['182', '45.2', '122', '170.2', '8.2', '1059.4', '780.7', '14', '21.5']\n",
      "['427.5', '47.5', '0', '228', '0', '932', '594', '180', '41.84']\n",
      "['183.9', '122.6', '0', '203.5', '0', '959.2', '800', '3', '4.9']\n",
      "['475', '0', '59', '142', '1.9', '1098', '641', '28', '57.23']\n",
      "['362.6', '189', '0', '164.9', '11.6', '944.7', '755.8', '28', '71.3']\n",
      "['318.8', '212.5', '0', '155.7', '14.3', '852.1', '880.4', '7', '33.4']\n",
      "['252', '97', '76', '194', '8', '835', '821', '28', '33.4']\n",
      "['237.5', '237.5', '0', '228', '0', '932', '594', '180', '36.25']\n",
      "['149.5', '236', '0', '175.8', '12.6', '846.8', '892.7', '28', '32.96']\n",
      "['540', '0', '0', '162', '2.5', '1055', '676', '28', '61.89']\n",
      "['313', '0', '113', '178', '8', '1002', '689', '28', '36.8']\n",
      "['380', '0', '0', '228', '0', '932', '670', '180', '53.1']\n",
      "['251.4', '0', '118.3', '192.9', '5.8', '1043.6', '754.3', '3', '11.98']\n",
      "['436', '0', '0', '218', '0', '838.4', '719.7', '28', '23.85']\n",
      "['155', '0', '143', '193', '9', '877', '868', '28', '9.74']\n",
      "['281', '0', '0', '186', '0', '1104', '774', '7', '14.5']\n",
      "['151.6', '0', '111.9', '184.4', '7.9', '992', '815.9', '28', '12.18']\n",
      "['326.5', '0', '137.9', '199', '10.8', '801.1', '792.5', '28', '38.63']\n",
      "['397', '17.2', '158', '167', '20.8', '967', '633', '28', '55.65']\n",
      "['238', '0', '0', '186', '0', '1119', '789', '7', '12.05']\n",
      "['158.6', '148.9', '116', '175.1', '15', '953.3', '719.7', '28', '27.68']\n",
      "['385', '0', '0', '186', '0', '966', '763', '28', '31.35']\n",
      "['302', '0', '0', '203', '0', '974', '817', '14', '18.13']\n",
      "['192', '288', '0', '192', '0', '929.8', '716.1', '3', '12.79']\n",
      "['155.6', '243.5', '0', '180.3', '10.7', '1022', '697.7', '28', '37.36']\n",
      "['160', '128', '122', '182', '6.4', '824', '879', '28', '39.4']\n",
      "['222.4', '0', '96.7', '189.3', '4.5', '967.1', '870.3', '56', '29.45']\n",
      "['251.8', '0', '99.9', '146.1', '12.4', '1006', '899.8', '14', '33.36']\n",
      "['331', '0', '0', '192', '0', '978', '825', '7', '16.26']\n",
      "['250', '0', '95.7', '191.8', '5.3', '948.9', '857.2', '56', '39.64']\n",
      "['155', '183', '0', '193', '9', '877', '868', '28', '23.79']\n",
      "['213.5', '0', '174.2', '154.6', '11.7', '1052.3', '775.5', '28', '45.94']\n",
      "['446', '24', '79', '162', '11.6', '967', '712', '56', '61.07']\n",
      "['133', '210', '0', '196', '3', '949', '795', '28', '31.03']\n",
      "['122.6', '183.9', '0', '203.5', '0', '958.2', '800.1', '90', '33.19']\n",
      "['290.2', '193.5', '0', '185.7', '0', '998.2', '704.3', '7', '21.86']\n",
      "['323.7', '282.8', '0', '183.8', '10.3', '942.7', '659.9', '28', '74.7']\n",
      "['375', '93.8', '0', '126.6', '23.4', '852.1', '992.6', '91', '62.5']\n",
      "['181.4', '0', '167', '169.6', '7.6', '1055.6', '777.8', '28', '27.77']\n",
      "['298.2', '0', '107', '209.7', '11.1', '879.6', '744.2', '28', '31.88']\n",
      "['236', '0', '0', '193', '0', '968', '885', '7', '9.99']\n",
      "['236', '0', '0', '193', '0', '968', '885', '365', '25.08']\n",
      "['339', '0', '0', '197', '0', '968', '781', '3', '13.22']\n",
      "['387', '20', '94', '157', '14.3', '938', '845', '56', '56.34']\n",
      "['166.8', '250.2', '0', '203.5', '0', '975.6', '692.6', '90', '43.57']\n",
      "['387', '20', '94', '157', '13.9', '938', '845', '28', '46.68']\n",
      "['133', '200', '0', '192', '0', '927.4', '839.2', '3', '6.88']\n",
      "['162', '214', '164', '202', '10', '820', '680', '28', '30.65']\n",
      "['262', '111', '86', '195', '5', '895', '733', '28', '33.72']\n",
      "['213.7', '98.1', '24.5', '181.7', '6.9', '1065.8', '785.4', '14', '30.39']\n",
      "['332.5', '142.5', '0', '228', '0', '932', '594', '90', '37.72']\n",
      "['313.3', '262.2', '0', '175.5', '8.6', '1046.9', '611.8', '7', '42.8']\n",
      "['302', '0', '0', '203', '0', '974', '817', '180', '26.74']\n",
      "['183.9', '122.6', '0', '203.5', '0', '959.2', '800', '90', '32.53']\n",
      "['500', '0', '0', '200', '0', '1125', '613', '7', '33.21']\n",
      "['218.2', '54.6', '123.8', '140.8', '11.9', '1075.7', '792.7', '28', '55.51']\n",
      "['387', '20', '94', '157', '11.6', '938', '845', '28', '46.68']\n",
      "['380', '95', '0', '228', '0', '932', '594', '270', '41.15']\n",
      "['213.5', '0', '174.2', '159.2', '11.7', '1043.6', '771.9', '14', '29.59']\n",
      "['160', '188', '146', '203', '11', '829', '710', '28', '32.84']\n",
      "['322', '0', '0', '203', '0', '974', '800', '180', '29.59']\n",
      "['173.5', '50.1', '173.5', '164.8', '6.5', '1006.2', '793.5', '14', '33.01']\n",
      "['252', '0', '0', '186', '0', '1111', '784', '7', '11.47']\n",
      "['299.8', '0', '119.8', '211.5', '9.9', '878.2', '727.6', '28', '23.84']\n",
      "['531.3', '0', '0', '141.8', '28.2', '852.1', '893.7', '28', '56.4']\n",
      "['198.6', '132.4', '0', '192', '0', '978.4', '825.5', '360', '44.3']\n",
      "['116', '173', '0', '192', '0', '909.8', '891.9', '28', '22.35']\n",
      "['304', '76', '0', '228', '0', '932', '670', '365', '55.26']\n",
      "['331', '0', '0', '192', '0', '978', '825', '28', '31.45']\n",
      "['286.3', '200.9', '0', '144.7', '11.2', '1004.6', '803.7', '28', '67.7']\n",
      "['349', '0', '0', '192', '0', '1047', '806', '7', '18.13']\n",
      "['520', '0', '0', '170', '5.2', '855', '855', '28', '60.28']\n",
      "['252.1', '97.1', '75.6', '193.8', '8.3', '835.5', '821.4', '28', '33.4']\n",
      "['255.5', '170.3', '0', '185.7', '0', '1026.6', '724.3', '7', '17.24']\n",
      "['446', '24', '79', '162', '11.6', '967', '712', '28', '44.42']\n",
      "['172.4', '13.6', '172.4', '156.8', '4.1', '1006.3', '856.4', '100', '37.68']\n",
      "['190.7', '0', '125.4', '162.1', '7.8', '1090', '804', '56', '35.34']\n",
      "['322', '149', '0', '186', '8', '951', '709', '28', '52.42']\n",
      "['446', '24', '79', '162', '11.6', '967', '712', '28', '57.03']\n",
      "['178', '129.8', '118.6', '179.9', '3.6', '1007.3', '746.8', '56', '48.59']\n",
      "['212.1', '0', '121.6', '180.3', '5.7', '1057.6', '779.3', '3', '12.47']\n",
      "['276', '116', '90', '180', '9', '870', '768', '28', '44.28']\n",
      "['393', '0', '0', '192', '0', '940.6', '785.6', '90', '48.85']\n",
      "['238.1', '0', '0', '185.7', '0', '1118.8', '789.3', '28', '17.58']\n",
      "['230', '0', '118.3', '195.5', '4.6', '1029.4', '758.6', '3', '10.03']\n",
      "['389.9', '189', '0', '145.9', '22', '944.7', '755.8', '3', '40.6']\n",
      "['157', '236', '0', '192', '0', '935.4', '781.2', '90', '43.38']\n",
      "['296', '0', '0', '192', '0', '1085', '765', '7', '14.2']\n",
      "['230', '0', '118.3', '195.5', '4.6', '1029.4', '758.6', '28', '24.48']\n",
      "['359', '19', '141', '154', '10.9', '942', '801', '28', '59.49']\n",
      "['374', '189.2', '0', '170.1', '10.1', '926.1', '756.7', '56', '63.4']\n",
      "['102', '153', '0', '192', '0', '887', '942', '7', '7.68']\n",
      "['202', '11', '141', '206', '1.7', '942', '801', '3', '9.85']\n",
      "['350', '0', '0', '203', '0', '974', '775', '14', '22.53']\n",
      "['236', '157', '0', '192', '0', '972.6', '749.1', '28', '32.88']\n",
      "['252', '0', '0', '185', '0', '1111', '784', '7', '13.71']\n",
      "['252.3', '0', '98.8', '146.3', '14.2', '987.8', '889', '100', '60.95']\n",
      "['336.5', '0', '0', '181.9', '3.4', '985.8', '816.8', '28', '44.87']\n",
      "['362.6', '189', '0', '164.9', '11.6', '944.7', '755.8', '56', '77.3']\n",
      "['218.2', '54.6', '123.8', '140.8', '11.9', '1075.7', '792.7', '56', '61.99']\n",
      "['315', '137', '0', '145', '5.9', '1130', '745', '28', '81.75']\n",
      "['159', '209', '161', '201', '7', '848', '669', '28', '30.88']\n",
      "['154.8', '183.4', '0', '193.3', '9.1', '877.2', '867.7', '28', '23.79']\n",
      "['281', '0', '0', '186', '0', '1104', '774', '28', '22.44']\n",
      "['231.8', '0', '121.6', '174', '6.7', '1056.4', '778.5', '14', '26.77']\n",
      "['318.8', '212.5', '0', '155.7', '14.3', '852.1', '880.4', '91', '68.1']\n",
      "['266', '114', '0', '228', '0', '932', '670', '365', '52.91']\n",
      "['277', '0', '0', '191', '0', '968', '856', '180', '32.33']\n",
      "['166.8', '250.2', '0', '203.5', '0', '975.6', '692.6', '28', '33.95']\n",
      "['159.8', '250', '0', '168.4', '12.2', '1049.3', '688.2', '28', '39.46']\n",
      "['397', '0', '0', '185.7', '0', '1040.6', '734.3', '7', '25.45']\n",
      "['231.8', '0', '121.6', '174', '6.7', '1056.4', '778.5', '100', '45.84']\n",
      "['164.6', '0', '150.4', '181.6', '11.7', '1023.3', '728.9', '28', '18.03']\n",
      "['122.6', '183.9', '0', '203.5', '0', '958.2', '800.1', '28', '24.29']\n",
      "['136.4', '161.6', '125.8', '171.6', '10.4', '922.6', '764.4', '28', '29.07']\n",
      "['190', '190', '0', '228', '0', '932', '670', '180', '46.93']\n",
      "['337.9', '189', '0', '174.9', '9.5', '944.7', '755.8', '56', '59.89']\n",
      "['349', '0', '0', '192', '0', '1047', '806', '90', '39.49']\n",
      "['184', '86', '190', '213', '6', '923', '623', '28', '22.93']\n",
      "['424', '22', '132', '178', '8.5', '822', '750', '7', '39']\n",
      "['379.5', '151.2', '0', '153.9', '15.9', '1134.3', '605', '28', '52.2']\n",
      "['212', '0', '124.8', '159', '7.8', '1085.4', '799.5', '3', '19.52']\n",
      "['156', '243', '0', '180', '11', '1022', '698', '28', '37.36']\n",
      "['136', '196', '98', '199', '6', '847', '783', '28', '26.97']\n",
      "['246.8', '0', '125.1', '143.3', '12', '1086.8', '800.9', '100', '66.42']\n",
      "['203.5', '135.7', '0', '185.7', '0', '1076.2', '759.3', '7', '11.96']\n",
      "['385', '0', '0', '186', '0', '966', '763', '3', '14.7']\n",
      "['181.4', '0', '167', '169.6', '7.6', '1055.6', '777.8', '3', '13.62']\n",
      "['254', '0', '0', '198', '0', '968', '863', '90', '26.94']\n",
      "['359', '19', '141', '154', '10.9', '942', '801', '3', '23.64']\n",
      "['230', '0', '118.3', '195.5', '4.6', '1029.4', '758.6', '100', '35.34']\n",
      "['382', '0', '0', '186', '0', '1047', '739', '7', '24']\n",
      "['220.8', '147.2', '0', '185.7', '0', '1055', '744.3', '28', '25.75']\n",
      "['313.3', '0', '113', '178.5', '8', '1001.9', '688.7', '28', '36.8']\n",
      "['167.4', '129.9', '128.6', '175.5', '7.8', '1006.3', '746.6', '56', '51.72']\n",
      "['144', '170', '133', '192', '8', '814', '805', '28', '29.87']\n",
      "['310', '0', '0', '192', '0', '1012', '830', '90', '35.76']\n",
      "['425', '106.3', '0', '151.4', '18.6', '936', '803.7', '56', '64.9']\n",
      "['108.3', '162.4', '0', '203.5', '0', '938.2', '849', '3', '2.33']\n",
      "['214.9', '53.8', '121.9', '155.6', '9.6', '1014.3', '780.6', '3', '18.02']\n",
      "['469', '117.2', '0', '137.8', '32.2', '852.1', '840.5', '56', '69.3']\n",
      "['310', '0', '0', '192', '0', '1012', '830', '28', '27.83']\n",
      "['522', '0', '0', '146', '0', '896', '896', '7', '50.51']\n",
      "['236', '0', '0', '194', '0', '968', '885', '3', '6.47']\n",
      "['213.7', '98.1', '24.5', '181.7', '6.9', '1065.8', '785.4', '3', '18']\n",
      "['250.2', '166.8', '0', '203.5', '0', '977.6', '694.1', '3', '9.73']\n",
      "['149', '153', '194', '192', '8', '935', '623', '28', '24.58']\n",
      "['439', '177', '0', '186', '11.1', '884.9', '707.9', '56', '71.7']\n",
      "['313', '145', '0', '178', '8', '1002', '689', '28', '41.05']\n",
      "['427.5', '47.5', '0', '228', '0', '932', '594', '90', '41.54']\n",
      "['165', '0', '143.6', '163.8', '0', '1005.6', '900.9', '28', '26.2']\n",
      "['322.5', '148.6', '0', '185.8', '8.5', '951', '709.5', '28', '52.43']\n",
      "['393', '0', '0', '192', '0', '940', '758', '90', '48.79']\n",
      "['362.6', '189', '0', '164.9', '11.6', '944.7', '755.8', '91', '79.3']\n",
      "['122.6', '183.9', '0', '203.5', '0', '958.2', '800.1', '3', '3.32']\n",
      "['213.7', '0', '174.7', '154.8', '10.2', '1053.5', '776.4', '28', '40.15']\n",
      "['200', '0', '0', '180', '0', '1125', '845', '28', '12.25']\n",
      "['108.3', '162.4', '0', '203.5', '0', '938.2', '849', '90', '29.23']\n",
      "['213.8', '98.1', '24.5', '181.7', '6.7', '1066', '785.5', '28', '40.23']\n",
      "['290.4', '0', '96.2', '168.1', '9.4', '961.2', '865', '28', '34.74']\n",
      "['153', '239', '0', '200', '6', '1002', '684', '28', '26.86']\n",
      "['229.7', '0', '118.2', '195.2', '6.1', '1028.1', '757.6', '56', '31.35']\n",
      "['251.4', '0', '118.3', '192.9', '5.8', '1043.6', '754.3', '28', '33.27']\n",
      "['322', '0', '0', '203', '0', '974', '800', '14', '20.77']\n",
      "['525', '0', '0', '189', '0', '1125', '613', '270', '67.11']\n",
      "['389.9', '189', '0', '145.9', '22', '944.7', '755.8', '56', '79.4']\n",
      "['252.3', '0', '98.8', '146.3', '14.2', '987.8', '889', '14', '42.29']\n",
      "['475', '118.8', '0', '181.1', '8.9', '852.1', '781.5', '3', '37.8']\n",
      "['259.9', '100.6', '78.4', '170.6', '10.4', '935.7', '762.9', '28', '49.77']\n",
      "['310', '0', '0', '192', '0', '1012', '830', '7', '17.24']\n",
      "['266', '114', '0', '228', '0', '932', '670', '270', '51.73']\n",
      "['236.9', '91.7', '71.5', '246.9', '6', '852.9', '695.4', '28', '28.63']\n",
      "['366', '187', '0', '191.3', '6.6', '824.3', '756.9', '28', '65.91']\n",
      "['333', '0', '0', '192', '0', '931.2', '842.6', '3', '15.62']\n",
      "['326', '166', '0', '174', '9', '882', '790', '28', '61.23']\n",
      "['145.9', '230.5', '0', '202.5', '3.4', '827', '871.8', '28', '32.72']\n",
      "['133', '200', '0', '192', '0', '927.4', '839.2', '7', '13.66']\n",
      "['251.4', '0', '118.3', '188.5', '5.8', '1028.4', '757.7', '56', '36.97']\n",
      "['500', '0', '0', '200', '0', '1125', '613', '270', '55.16']\n",
      "['154.8', '0', '142.8', '193.3', '9.1', '1047.4', '696.7', '28', '12.46']\n",
      "['349', '0', '0', '192', '0', '1056', '809', '120', '40.86']\n",
      "['389.9', '189', '0', '145.9', '22', '944.7', '755.8', '28', '74.5']\n",
      "['162', '190.1', '148.1', '178.8', '18.8', '838.1', '741.4', '28', '33.76']\n",
      "['277.1', '0', '97.4', '160.6', '11.8', '973.9', '875.6', '100', '55.64']\n",
      "['166', '260', '0', '183', '13', '859', '827', '28', '37.91']\n",
      "['277', '116.8', '91', '190.6', '7', '946.5', '665.6', '28', '43.58']\n",
      "['425', '106.3', '0', '153.5', '16.5', '852.1', '887.1', '3', '33.4']\n",
      "['439', '177', '0', '186', '11.1', '884.9', '707.9', '28', '66']\n",
      "['540', '0', '0', '173', '0', '1125', '613', '3', '41.64']\n",
      "['480', '0', '0', '192', '0', '936.2', '712.2', '28', '43.94']\n",
      "['382', '0', '0', '186', '0', '1047', '739', '28', '37.42']\n",
      "['475', '0', '0', '228', '0', '932', '594', '90', '42.23']\n",
      "['143', '169', '143', '191', '8', '967', '643', '28', '29.72']\n",
      "['203.5', '305.3', '0', '203.5', '0', '963.4', '630', '90', '51.86']\n",
      "['374', '189.2', '0', '170.1', '10.1', '926.1', '756.7', '91', '64.9']\n",
      "['181.9', '272.8', '0', '185.7', '0', '1012.4', '714.3', '7', '12.37']\n",
      "['153', '145', '113', '178', '8', '867', '824', '28', '26.23']\n",
      "['450.1', '50', '0', '200', '3', '1124.4', '613.2', '28', '39.38']\n",
      "['238', '0', '0', '186', '0', '1119', '789', '28', '17.54']\n",
      "['380', '0', '0', '228', '0', '932', '670', '90', '52.91']\n",
      "['469', '117.2', '0', '137.8', '32.2', '852.1', '840.5', '91', '70.7']\n",
      "['528', '0', '0', '185', '6.9', '920', '720', '28', '56.83']\n",
      "['238.2', '158.8', '0', '185.7', '0', '1040.6', '734.3', '28', '26.91']\n",
      "['186.2', '124.1', '0', '185.7', '0', '1083.4', '764.3', '28', '17.6']\n",
      "['212.6', '0', '100.4', '159.4', '10.4', '1003.8', '903.8', '28', '37.4']\n",
      "['475', '0', '0', '228', '0', '932', '594', '270', '42.13']\n",
      "['425', '106.3', '0', '153.5', '16.5', '852.1', '887.1', '3', '33.4']\n",
      "['198.6', '132.4', '0', '192', '0', '978.4', '825.5', '3', '9.13']\n",
      "['491', '26', '123', '201', '3.9', '822', '699', '7', '37.92']\n",
      "['277.1', '0', '97.4', '160.6', '11.8', '973.9', '875.6', '56', '51.04']\n",
      "['342', '38', '0', '228', '0', '932', '670', '180', '52.12']\n",
      "['387', '20', '94', '157', '13.9', '938', '845', '7', '45.9']\n",
      "['152.6', '238.7', '0', '200', '6.3', '1001.8', '683.9', '28', '26.86']\n",
      "['281', '0', '0', '185', '0', '1104', '774', '28', '22.44']\n",
      "['198.6', '132.4', '0', '192', '0', '978.4', '825.5', '90', '38.07']\n",
      "['491', '26', '123', '210', '3.9', '882', '699', '28', '55.55']\n",
      "['290.4', '0', '96.2', '168.1', '9.4', '961.2', '865', '14', '34.67']\n",
      "['144', '0', '175', '158', '18', '943', '844', '28', '15.42']\n",
      "['246.8', '0', '125.1', '143.3', '12', '1086.8', '800.9', '14', '42.22']\n",
      "['252.5', '0', '0', '185.7', '0', '1111.6', '784.3', '28', '19.77']\n",
      "['236', '0', '0', '193', '0', '968', '885', '180', '24.1']\n",
      "['540', '0', '0', '173', '0', '1125', '613', '270', '74.17']\n",
      "['295', '0', '0', '185', '0', '1069', '769', '7', '14.8']\n",
      "['150.7', '0', '185.3', '166.7', '15.6', '1074.5', '678', '28', '13.46']\n",
      "['218.9', '0', '124.1', '158.5', '11.3', '1078.7', '794.9', '28', '30.22']\n",
      "['233.8', '0', '94.6', '197.9', '4.6', '947', '852.2', '14', '22.14']\n",
      "['249.1', '0', '98.8', '158.1', '12.8', '987.8', '889', '100', '51.06']\n",
      "['339', '0', '0', '185', '0', '1069', '754', '28', '31.84']\n",
      "['505', '0', '60', '195', '0', '1030', '630', '28', '64.02']\n",
      "['230', '0', '118.3', '195.5', '4.6', '1029.4', '758.6', '56', '31.54']\n",
      "['374', '189.2', '0', '170.1', '10.1', '926.1', '756.7', '3', '34.4']\n",
      "['139.6', '209.4', '0', '192', '0', '1047', '806.9', '360', '44.7']\n",
      "['148.1', '0', '136.6', '158.1', '16.1', '1001.8', '830.1', '28', '17.96']\n",
      "['190.3', '0', '125.2', '161.9', '9.9', '1088.1', '802.6', '100', '40.39']\n",
      "['376', '0', '0', '214.6', '0', '1003.5', '762.4', '14', '25.62']\n",
      "['251.4', '0', '118.3', '188.5', '6.4', '1028.4', '757.7', '28', '32.66']\n",
      "['157', '236', '0', '192', '0', '935.4', '781.2', '7', '16.89']\n",
      "['304', '76', '0', '228', '0', '932', '670', '28', '47.81']\n",
      "['167.4', '129.9', '128.6', '175.5', '7.8', '1006.3', '746.6', '14', '31.81']\n",
      "['304', '140', '0', '214', '6', '895', '722', '28', '33.42']\n",
      "['182', '45.2', '122', '170.2', '8.2', '1059.4', '780.7', '3', '7.32']\n",
      "['252', '0', '0', '185', '0', '1111', '784', '28', '19.69']\n",
      "['323.7', '282.8', '0', '183.8', '10.3', '942.7', '659.9', '3', '28.3']\n",
      "['350', '0', '0', '203', '0', '974', '775', '90', '31.35']\n",
      "['213.5', '0', '174.2', '159.2', '11.7', '1043.6', '771.9', '100', '52.96']\n",
      "['286.3', '200.9', '0', '144.7', '11.2', '1004.6', '803.7', '91', '76.8']\n",
      "['143.7', '170.2', '132.6', '191.6', '8.5', '814.1', '805.3', '28', '29.87']\n",
      "['236', '157', '0', '192', '0', '972.6', '749.1', '90', '47.78']\n",
      "['213.7', '0', '174.7', '154.8', '10.2', '1053.5', '776.4', '14', '33.73']\n",
      "['181.4', '0', '167', '169.6', '7.6', '1055.6', '777.8', '100', '45.37']\n",
      "['249.1', '0', '98.8', '158.1', '12.8', '987.8', '889', '56', '42.03']\n",
      "['193.5', '290.2', '0', '185.7', '0', '998.2', '704.3', '28', '32.63']\n",
      "['194.7', '0', '100.5', '170.2', '7.5', '998', '901.8', '28', '37.27']\n",
      "['289', '134', '0', '195', '6', '924', '760', '28', '46.24']\n",
      "['298', '137', '107', '201', '6', '878', '655', '28', '53.52']\n",
      "['192', '288', '0', '192', '0', '929.8', '716.1', '90', '50.73']\n",
      "['213.5', '0', '174.2', '159.2', '11.7', '1043.6', '771.9', '56', '51.26']\n",
      "['190', '190', '0', '228', '0', '932', '670', '28', '40.86']\n",
      "['173', '116', '0', '192', '0', '946.8', '856.8', '90', '32.1']\n",
      "['213.5', '0', '174.2', '154.6', '11.7', '1052.3', '775.5', '3', '17.37']\n",
      "['173.8', '93.4', '159.9', '172.3', '9.7', '1007.2', '746.6', '28', '37.81']\n",
      "['284', '120', '0', '168', '7', '970', '794', '28', '40.93']\n",
      "['135.7', '203.5', '0', '185.7', '0', '1076.2', '759.3', '7', '7.51']\n",
      "['246.8', '0', '125.1', '143.3', '12', '1086.8', '800.9', '28', '52.5']\n",
      "['136', '162', '126', '172', '10', '923', '764', '28', '29.07']\n",
      "['139.6', '209.4', '0', '192', '0', '1047', '806.9', '3', '8.06']\n",
      "['250', '0', '95.7', '187.4', '5.5', '956.9', '861.2', '14', '24.92']\n",
      "['475', '0', '0', '228', '0', '932', '594', '180', '42.62']\n",
      "['149', '139', '109', '193', '6', '892', '780', '28', '23.69']\n",
      "['277', '0', '0', '191', '0', '968', '856', '360', '33.7']\n",
      "['225', '0', '0', '181', '0', '1113', '833', '7', '11.17']\n",
      "['289', '133.7', '0', '194.9', '5.5', '924.1', '760.1', '28', '46.25']\n",
      "['480', '0', '0', '192', '0', '936.2', '712.2', '90', '54.32']\n",
      "['153', '102', '0', '192', '0', '888', '943.1', '90', '26.32']\n",
      "['231.8', '0', '121.6', '174', '6.7', '1056.4', '778.5', '56', '42.7']\n",
      "['225', '0', '0', '181', '0', '1113', '833', '28', '17.34']\n",
      "['190.3', '0', '125.2', '166.6', '9.9', '1079', '798.9', '14', '19.42']\n",
      "['172.4', '13.6', '172.4', '156.8', '4.1', '1006.3', '856.4', '28', '33.69']\n",
      "['266', '114', '0', '228', '0', '932', '670', '180', '48.7']\n",
      "['212.5', '0', '100.4', '159.3', '8.7', '1007.8', '903.6', '28', '31.64']\n",
      "['172.4', '13.6', '172.4', '156.8', '4.1', '1006.3', '856.4', '56', '35.85']\n",
      "['388.6', '97.1', '0', '157.9', '12.1', '852.1', '925.7', '28', '50.7']\n",
      "['277', '0', '0', '191', '0', '968', '856', '28', '25.97']\n",
      "['141.3', '212', '0', '203.5', '0', '971.8', '748.5', '3', '4.83']\n",
      "['339', '0', '0', '197', '0', '968', '781', '90', '35.17']\n",
      "['289', '0', '0', '192', '0', '913.2', '895.3', '90', '32.07']\n",
      "['154.8', '0', '142.8', '193.3', '9.1', '877.2', '867.7', '28', '9.74']\n",
      "['480', '0', '0', '192', '0', '936', '721', '28', '43.89']\n",
      "['198.6', '132.4', '0', '192', '0', '978.4', '825.5', '28', '28.02']\n",
      "['194.7', '0', '100.5', '165.6', '7.5', '1006.4', '905.9', '28', '25.72']\n",
      "['349', '0', '0', '192', '0', '1056', '809', '7', '9.01']\n",
      "['366', '187', '0', '191', '7', '824', '757', '28', '65.91']\n",
      "['236', '0', '0', '194', '0', '968', '885', '90', '21.95']\n",
      "['305.3', '203.5', '0', '203.5', '0', '965.4', '631', '28', '43.38']\n",
      "['213.8', '98.1', '24.5', '181.7', '6.7', '1066', '785.5', '56', '47.13']\n",
      "['218.2', '54.6', '123.8', '140.8', '11.9', '1075.7', '792.7', '14', '35.96']\n",
      "['238.2', '158.8', '0', '185.7', '0', '1040.6', '734.3', '7', '15.69']\n",
      "['159', '187', '0', '176', '11', '990', '789', '28', '32.76']\n",
      "['102', '153', '0', '192', '0', '887', '942', '90', '25.46']\n",
      "['170.3', '155.5', '0', '185.7', '0', '1026.6', '724.3', '7', '10.73']\n",
      "['425', '106.3', '0', '153.5', '16.5', '852.1', '887.1', '7', '49.2']\n",
      "['342', '38', '0', '228', '0', '932', '670', '365', '56.14']\n",
      "['173.5', '50.1', '173.5', '164.8', '6.5', '1006.2', '793.5', '3', '23.08']\n",
      "['330.5', '169.6', '0', '194.9', '8.1', '811', '802.3', '28', '56.62']\n",
      "['318.8', '212.5', '0', '155.7', '14.3', '852.1', '880.4', '28', '55.5']\n",
      "['304.8', '0', '99.6', '196', '9.8', '959.4', '705.2', '28', '30.12']\n",
      "['266', '112', '87', '178', '10', '910', '745', '28', '39.42']\n",
      "['165', '128.5', '132.1', '175.1', '8.1', '1005.8', '746.6', '14', '33.09']\n",
      "['362.6', '189', '0', '164.9', '11.6', '944.7', '755.8', '3', '35.3']\n",
      "['139.6', '209.4', '0', '192', '0', '1047', '806.9', '90', '39.36']\n",
      "['150', '237', '0', '174', '12', '1069', '675', '28', '37.43']\n",
      "['310', '142.8', '0', '167.9', '10', '914.3', '804', '28', '45.3']\n",
      "['148', '0', '182', '181', '15', '839', '884', '28', '15.52']\n",
      "['203.5', '305.3', '0', '203.5', '0', '963.4', '630', '28', '41.68']\n",
      "['212', '0', '124.8', '159', '7.8', '1085.4', '799.5', '14', '31.35']\n",
      "['102', '153', '0', '192', '0', '887', '942', '3', '4.57']\n",
      "['305.3', '203.5', '0', '203.5', '0', '965.4', '631', '90', '54.6']\n",
      "['183.9', '122.6', '0', '203.5', '0', '959.2', '800', '28', '24.05']\n",
      "['296', '0', '107', '221', '11', '819', '778', '28', '31.42']\n",
      "['275.1', '0', '121.4', '159.5', '9.9', '1053.6', '777.5', '100', '58.61']\n",
      "['424', '22', '132', '178', '8.5', '822', '750', '56', '65.7']\n",
      "['166.1', '0', '163.3', '176.5', '4.5', '1058.6', '780.1', '3', '10.76']\n",
      "['297.8', '137.2', '106.9', '201.3', '6', '878.4', '655.3', '28', '53.52']\n",
      "['321.3', '164.2', '0', '190.5', '4.6', '870', '774', '28', '57.22']\n",
      "['333', '0', '0', '192', '0', '931.2', '842.6', '90', '41.68']\n",
      "['102', '153', '0', '192', '0', '887', '942', '28', '17.28']\n",
      "['388.6', '97.1', '0', '157.9', '12.1', '852.1', '925.7', '91', '57.6']\n",
      "['480', '0', '0', '192', '0', '936', '721', '90', '54.28']\n",
      "['362.6', '189', '0', '164.9', '11.6', '944.7', '755.8', '3', '35.3']\n",
      "['134.7', '0', '165.7', '180.2', '10', '961', '804.9', '28', '13.29']\n",
      "['250', '0', '95.7', '187.4', '5.5', '956.9', '861.2', '3', '13.82']\n",
      "['284', '15', '141', '179', '5.5', '842', '801', '56', '44.52']\n",
      "['393', '0', '0', '192', '0', '940.6', '785.6', '7', '27.74']\n",
      "['475', '118.8', '0', '181.1', '8.9', '852.1', '781.5', '91', '74.19']\n",
      "['212.5', '0', '100.4', '159.3', '8.7', '1007.8', '903.6', '100', '42.92']\n",
      "['251.4', '0', '118.3', '188.5', '5.8', '1028.4', '757.7', '3', '17.22']\n",
      "['275.1', '0', '121.4', '159.5', '9.9', '1053.6', '777.5', '28', '51.33']\n",
      "['166.8', '250.2', '0', '203.5', '0', '975.6', '692.6', '3', '6.9']\n",
      "['173.8', '93.4', '159.9', '172.3', '9.7', '1007.2', '746.6', '3', '15.82']\n",
      "['374', '189.2', '0', '170.1', '10.1', '926.1', '756.7', '28', '61.09']\n",
      "['168', '42.1', '163.8', '121.8', '5.7', '1058.7', '780.1', '28', '24.24']\n",
      "['425', '106.3', '0', '153.5', '16.5', '852.1', '887.1', '28', '60.29']\n",
      "['331', '0', '0', '192', '0', '1025', '821', '120', '39.38']\n",
      "['525', '0', '0', '189', '0', '1125', '613', '14', '48.4']\n",
      "['446', '24', '79', '162', '10.3', '967', '712', '28', '53.39']\n",
      "['300', '0', '120', '212', '10', '878', '728', '28', '23.84']\n",
      "['213.8', '98.1', '24.5', '181.7', '6.7', '1066', '785.5', '14', '17.84']\n",
      "['255', '0', '0', '192', '0', '889.8', '945', '3', '8.2']\n",
      "['275.1', '0', '121.4', '159.5', '9.9', '1053.6', '777.5', '14', '38.77']\n",
      "['382.5', '0', '0', '185.7', '0', '1047.8', '739.3', '28', '37.44']\n",
      "['359', '19', '141', '154', '10.9', '942', '801', '7', '35.75']\n",
      "['190.3', '0', '125.2', '166.6', '9.9', '1079', '798.9', '56', '31.72']\n",
      "['290.2', '193.5', '0', '185.7', '0', '998.2', '704.3', '28', '33.04']\n",
      "['380', '95', '0', '228', '0', '932', '594', '90', '40.56']\n",
      "['165', '128.5', '132.1', '175.1', '8.1', '1005.8', '746.6', '100', '55.02']\n",
      "['375', '93.8', '0', '126.6', '23.4', '852.1', '992.6', '7', '45.7']\n",
      "['331', '0', '0', '192', '0', '978', '825', '360', '41.24']\n",
      "['277', '117', '91', '191', '7', '946', '666', '28', '43.57']\n",
      "['321', '0', '128', '182', '11', '870', '780', '28', '37.26']\n",
      "['313.3', '262.2', '0', '175.5', '8.6', '1046.9', '611.8', '56', '64.9']\n",
      "['522', '0', '0', '146', '0', '896', '896', '28', '74.99']\n",
      "['446', '24', '79', '162', '11.6', '967', '712', '56', '56.14']\n",
      "['339.2', '0', '0', '185.7', '0', '1069.2', '754.3', '7', '21.18']\n",
      "['286.3', '200.9', '0', '144.7', '11.2', '1004.6', '803.7', '7', '38']\n",
      "['288', '192', '0', '192', '0', '932', '717.8', '90', '50.53']\n",
      "['212.6', '0', '100.4', '159.4', '10.4', '1003.8', '903.8', '14', '25.37']\n",
      "['400', '0', '0', '187', '0', '1025', '745', '28', '43.7']\n",
      "['155.2', '183.9', '143.2', '193.8', '9.2', '879.6', '698.5', '28', '28.99']\n",
      "['349', '0', '0', '192', '0', '1047', '806', '28', '32.72']\n",
      "['334', '17.6', '158', '189', '15.3', '967', '633', '28', '44.33']\n",
      "['168', '42.1', '163.8', '121.8', '5.7', '1058.7', '780.1', '100', '39.23']\n",
      "['362.6', '189', '0', '164.9', '11.6', '944.7', '755.8', '56', '77.3']\n",
      "['255.5', '170.3', '0', '185.7', '0', '1026.6', '724.3', '28', '32.05']\n",
      "['427.5', '47.5', '0', '228', '0', '932', '594', '365', '43.7']\n",
      "['439', '177', '0', '186', '11.1', '884.9', '707.9', '3', '39.3']\n",
      "['261.9', '110.5', '86.1', '195.4', '5', '895.2', '732.6', '28', '33.72']\n",
      "['252', '0', '0', '185', '0', '1111', '784', '28', '19.69']\n",
      "['485', '0', '0', '146', '0', '1120', '800', '28', '71.99']\n",
      "['194.7', '0', '100.5', '165.6', '7.5', '1006.4', '905.9', '3', '12.45']\n",
      "['148', '175', '0', '171', '2', '1000', '828', '28', '26.92']\n",
      "['288', '192', '0', '192', '0', '932', '717.8', '28', '38.8']\n",
      "['359', '19', '141', '154', '10.9', '942', '801', '56', '66.78']\n",
      "['356', '0', '142', '193', '11', '801', '778', '28', '40.87']\n",
      "['382', '0', '0', '186', '0', '1111', '784', '7', '11.47']\n",
      "['439', '177', '0', '186', '11.1', '884.9', '707.9', '91', '73.3']\n",
      "['264.5', '111', '86.5', '195.5', '5.9', '832.6', '790.4', '28', '41.54']\n",
      "['190.7', '0', '125.4', '162.1', '7.8', '1090', '804', '14', '21.06']\n",
      "['173.8', '93.4', '159.9', '172.3', '9.7', '1007.2', '746.6', '100', '50.94']\n",
      "['317.9', '0', '126.5', '209.7', '5.7', '860.5', '736.6', '28', '40.06']\n",
      "['288.4', '121', '0', '177.4', '7', '907.9', '829.5', '28', '42.14']\n",
      "['425', '106.3', '0', '153.5', '16.5', '852.1', '887.1', '91', '65.2']\n",
      "['359', '19', '141', '154', '10.9', '942', '801', '3', '25.12']\n",
      "['237.5', '237.5', '0', '228', '0', '932', '594', '365', '39']\n",
      "['133', '200', '0', '192', '0', '927.4', '839.2', '28', '27.87']\n",
      "['427.5', '47.5', '0', '228', '0', '932', '594', '28', '37.43']\n",
      "['162', '207', '172', '216', '10', '822', '638', '28', '39.84']\n",
      "['251.8', '0', '99.9', '146.1', '12.4', '1006', '899.8', '56', '44.14']\n",
      "['425', '106.3', '0', '153.5', '16.5', '852.1', '887.1', '56', '64.3']\n",
      "['491', '26', '123', '210', '3.9', '882', '699', '7', '33.49']\n",
      "['275', '180', '120', '162', '10.4', '830', '765', '28', '76.24']\n",
      "['145.4', '0', '178.9', '201.7', '7.8', '824', '868.7', '28', '10.54']\n",
      "['362.6', '189', '0', '164.9', '11.6', '944.7', '755.8', '91', '79.3']\n",
      "['277.2', '97.8', '24.5', '160.7', '11.2', '1061.7', '782.5', '3', '30.45']\n",
      "['212.5', '0', '100.4', '159.3', '8.7', '1007.8', '903.6', '3', '13.54']\n",
      "['218.9', '0', '124.1', '158.5', '11.3', '1078.7', '794.9', '100', '46.23']\n",
      "['297.2', '0', '117.5', '174.8', '9.5', '1022.8', '753.5', '14', '36.99']\n",
      "['333', '0', '0', '192', '0', '931.2', '842.6', '28', '31.97']\n",
      "['280', '129', '100', '172', '9', '825', '805', '28', '52.82']\n",
      "['178', '129.8', '118.6', '179.9', '3.6', '1007.3', '746.8', '100', '49.99']\n",
      "['339', '0', '0', '185', '0', '1060', '754', '28', '31.65']\n",
      "['500', '0', '0', '200', '0', '1125', '613', '1', '12.64']\n",
      "['362.6', '189', '0', '164.9', '11.6', '944.7', '755.8', '7', '22.9']\n",
      "['375', '93.8', '0', '126.6', '23.4', '852.1', '992.6', '3', '29']\n",
      "['382', '0', '0', '185', '0', '1047', '739', '7', '24']\n",
      "['451', '0', '0', '165', '11.3', '1030', '745', '28', '78.8']\n",
      "['251.8', '0', '99.9', '146.1', '12.4', '1006', '899.8', '28', '33.94']\n",
      "['212', '141.3', '0', '203.5', '0', '973.4', '750', '90', '39.7']\n",
      "['153', '102', '0', '192', '0', '888', '943.1', '7', '8.37']\n",
      "['318.8', '212.5', '0', '155.7', '14.3', '852.1', '880.4', '3', '25.2']\n",
      "['296', '0', '0', '186', '0', '1090', '769', '28', '25.18']\n",
      "['313.8', '0', '112.6', '169.9', '10.1', '925.3', '782.9', '28', '38.46']\n",
      "['164', '0', '200', '181', '13', '849', '846', '28', '15.09']\n",
      "['297.2', '0', '117.5', '174.8', '9.5', '1022.8', '753.5', '56', '51.96']\n",
      "['231.8', '0', '121.6', '174', '6.7', '1056.4', '778.5', '3', '15.44']\n",
      "['203.5', '305.3', '0', '203.5', '0', '963.4', '630', '7', '19.54']\n",
      "['425', '106.3', '0', '153.5', '16.5', '852.1', '887.1', '56', '64.3']\n",
      "['310', '143', '111', '168', '22', '914', '651', '28', '33.69']\n",
      "['349', '0', '0', '192', '0', '1056', '809', '90', '40.66']\n",
      "['480', '0', '0', '192', '0', '936', '721', '3', '24.39']\n",
      "['298.1', '0', '107.5', '163.6', '12.8', '953.2', '784', '28', '35.87']\n",
      "['446', '24', '79', '162', '11.6', '967', '712', '28', '51.02']\n",
      "['381.4', '0', '0', '185.7', '0', '1104.6', '784.3', '7', '14.54']\n",
      "['475', '0', '0', '162', '9.5', '1044', '662', '28', '58.52']\n",
      "['362.6', '189', '0', '164.9', '11.6', '944.7', '755.8', '28', '71.3']\n",
      "['500', '0', '0', '200', '0', '1125', '613', '3', '26.06']\n",
      "['425', '106.3', '0', '153.5', '16.5', '852.1', '887.1', '91', '65.2']\n",
      "['261', '100', '78', '201', '9', '864', '761', '28', '32.4']\n",
      "['359', '19', '141', '154', '10.9', '942', '801', '56', '68.75']\n",
      "['237.5', '237.5', '0', '228', '0', '932', '594', '90', '33.12']\n",
      "['393', '0', '0', '192', '0', '940.6', '785.6', '3', '19.2']\n",
      "['286.3', '200.9', '0', '144.7', '11.2', '1004.6', '803.7', '56', '72.99']\n",
      "['213.7', '98.1', '24.5', '181.7', '6.9', '1065.8', '785.4', '56', '50.77']\n",
      "['173.8', '93.4', '159.9', '172.3', '9.7', '1007.2', '746.6', '56', '48.99']\n",
      "['238.1', '0', '94.1', '186.7', '7', '949.9', '847', '3', '19.93']\n",
      "['251.4', '0', '118.3', '188.5', '6.4', '1028.4', '757.7', '14', '24.43']\n",
      "['387', '20', '94', '157', '13.9', '938', '845', '56', '47.97']\n",
      "['531.3', '0', '0', '141.8', '28.2', '852.1', '893.7', '7', '46.9']\n",
      "['304', '76', '0', '228', '0', '932', '670', '180', '50.95']\n",
      "['525', '0', '0', '189', '0', '1125', '613', '90', '58.78']\n",
      "['145', '116', '119', '184', '5.7', '833', '880', '28', '29.16']\n",
      "['212', '141.3', '0', '203.5', '0', '973.4', '750', '3', '6.81']\n",
      "['374', '189.2', '0', '170.1', '10.1', '926.1', '756.7', '7', '46.2']\n",
      "['165', '0', '150', '182', '12', '1023', '729', '28', '18.03']\n",
      "['424', '22', '132', '168', '8.9', '822', '750', '28', '72.1']\n",
      "['150', '236.8', '0', '173.8', '11.9', '1069.3', '674.8', '28', '37.43']\n",
      "['212', '141.3', '0', '203.5', '0', '973.4', '750', '7', '15.03']\n",
      "['272.8', '181.9', '0', '185.7', '0', '1012.4', '714.3', '7', '19.77']\n",
      "['284', '15', '141', '179', '5.5', '842', '801', '28', '43.73']\n",
      "['116', '173', '0', '192', '0', '909.8', '891.9', '3', '6.28']\n",
      "['260', '101', '78', '171', '10', '936', '763', '28', '49.77']\n",
      "['376', '0', '0', '214.6', '0', '1003.5', '762.4', '28', '31.97']\n",
      "['379.5', '151.2', '0', '153.9', '15.9', '1134.3', '605', '7', '47.1']\n",
      "['233.8', '0', '94.6', '197.9', '4.6', '947', '852.2', '56', '27.66']\n",
      "['181.9', '272.8', '0', '185.7', '0', '1012.4', '714.3', '28', '27.94']\n",
      "['500', '0', '0', '200', '0', '1125', '613', '90', '47.22']\n",
      "['167', '75.4', '167', '164', '7.9', '1007.3', '770.1', '14', '32.9']\n",
      "['212.6', '0', '100.4', '159.4', '10.4', '1003.8', '903.8', '3', '13.33']\n",
      "['297.2', '0', '117.5', '174.8', '9.5', '1022.8', '753.5', '28', '47.4']\n",
      "['153.1', '145', '113', '178.5', '8', '1001.9', '688.7', '28', '25.56']\n",
      "['173', '116', '0', '192', '0', '946.8', '856.8', '28', '24.28']\n",
      "['525', '0', '0', '189', '0', '1125', '613', '7', '42.42']\n",
      "['289', '0', '0', '192', '0', '913.2', '895.3', '28', '25.57']\n",
      "['228', '342.1', '0', '185.7', '0', '955.8', '674.3', '28', '39.7']\n",
      "['182', '45.2', '122', '170.2', '8.2', '1059.4', '780.7', '56', '43.5']\n",
      "['144', '136', '106', '178', '7', '941', '774', '28', '26.14']\n",
      "['155', '183', '0', '193', '9', '1047', '697', '28', '18.28']\n",
      "['251.4', '0', '118.3', '188.5', '6.4', '1028.4', '757.7', '3', '13.12']\n",
      "['475', '118.8', '0', '181.1', '8.9', '852.1', '781.5', '56', '72.3']\n",
      "['190', '190', '0', '228', '0', '932', '670', '270', '50.66']\n",
      "['157', '236', '0', '192', '0', '935.4', '781.2', '28', '33.66']\n",
      "['355', '19', '97', '145', '13.1', '967', '871', '28', '44.03']\n",
      "['202', '11', '141', '206', '1.7', '942', '801', '56', '23.25']\n",
      "['446', '24', '79', '162', '11.6', '967', '712', '56', '55.25']\n",
      "['425', '106.3', '0', '151.4', '18.6', '936', '803.7', '91', '66.7']\n",
      "['362.6', '189', '0', '164.9', '11.6', '944.7', '755.8', '7', '55.9']\n",
      "['425', '106.3', '0', '153.5', '16.5', '852.1', '887.1', '28', '60.29']\n",
      "['190.7', '0', '125.4', '162.1', '7.8', '1090', '804', '100', '40.57']\n",
      "['325', '0', '0', '184', '0', '1063', '783', '28', '30.57']\n",
      "['251.4', '0', '118.3', '188.5', '6.4', '1028.4', '757.7', '100', '44.21']\n",
      "['525', '0', '0', '189', '0', '1125', '613', '180', '61.92']\n",
      "['212.5', '0', '100.4', '159.3', '8.7', '1007.8', '903.6', '56', '42.55']\n",
      "['149', '236', '0', '176', '13', '847', '893', '28', '32.96']\n",
      "['375', '93.8', '0', '126.6', '23.4', '852.1', '992.6', '56', '60.2']\n",
      "['173.5', '50.1', '173.5', '164.8', '6.5', '1006.2', '793.5', '100', '56.06']\n",
      "['165', '0', '143.6', '163.8', '0', '1005.6', '900.9', '56', '36.56']\n",
      "['168', '42.1', '163.8', '121.8', '5.7', '1058.7', '780.1', '3', '7.75']\n",
      "['157', '214', '152', '200', '9', '819', '704', '28', '33.05']\n",
      "['272.6', '0', '89.6', '198.7', '10.6', '931.3', '762.2', '28', '32.25']\n",
      "['251.8', '0', '99.9', '146.1', '12.4', '1006', '899.8', '100', '45.37']\n",
      "['322', '0', '0', '203', '0', '974', '800', '28', '25.18']\n",
      "['238.1', '0', '0', '185.7', '0', '1118.8', '789.3', '7', '10.34']\n",
      "['424', '22', '132', '168', '8.9', '822', '750', '56', '74.36']\n",
      "['339', '0', '0', '197', '0', '968', '781', '180', '36.45']\n",
      "['331', '0', '0', '192', '0', '978', '825', '3', '13.52']\n",
      "['133.1', '210.2', '0', '195.7', '3.1', '949.4', '795.3', '28', '28.94']\n",
      "['212.1', '0', '121.6', '180.3', '5.7', '1057.6', '779.3', '28', '24.9']\n",
      "['165', '128.5', '132.1', '175.1', '8.1', '1005.8', '746.6', '56', '53.72']\n",
      "['145', '0', '134', '181', '11', '979', '812', '28', '13.2']\n",
      "['277', '0', '0', '191', '0', '968', '856', '3', '11.36']\n",
      "['339', '0', '0', '197', '0', '968', '781', '365', '38.89']\n",
      "['143.6', '0', '174.9', '158.4', '17.9', '942.7', '844.5', '28', '15.42']\n",
      "['210.7', '316.1', '0', '185.7', '0', '977', '689.3', '7', '21.82']\n",
      "['362.6', '189', '0', '164.9', '11.6', '944.7', '755.8', '56', '77.3']\n",
      "['260.9', '100.5', '78.3', '200.6', '8.6', '864.5', '761.5', '28', '32.4']\n",
      "['305.3', '203.5', '0', '203.5', '0', '965.4', '631', '3', '14.14']\n",
      "['166.1', '0', '163.3', '176.5', '4.5', '1058.6', '780.1', '100', '33.54']\n",
      "['500', '0', '0', '151', '9', '1033', '655', '28', '69.84']\n",
      "['475', '0', '0', '228', '0', '932', '594', '7', '38.6']\n",
      "['229.7', '0', '118.2', '195.2', '6.1', '1028.1', '757.6', '100', '40.86']\n",
      "['439', '177', '0', '186', '11.1', '884.9', '707.9', '7', '56.1']\n",
      "['393', '0', '0', '192', '0', '940', '758', '3', '19.11']\n",
      "['238.1', '0', '94.1', '186.7', '7', '949.9', '847', '28', '30.23']\n",
      "['491', '26', '123', '201', '3.9', '822', '699', '56', '61.86']\n",
      "['491', '26', '123', '210', '3.9', '882', '699', '56', '59.59']\n",
      "['388.6', '97.1', '0', '157.9', '12.1', '852.1', '925.7', '56', '55.2']\n",
      "['295.8', '0', '0', '185.7', '0', '1091.4', '769.3', '7', '14.84']\n",
      "['250', '0', '95.7', '187.4', '5.5', '956.9', '861.2', '56', '38.33']\n",
      "['339', '0', '0', '197', '0', '968', '781', '14', '27.04']\n",
      "['332.5', '142.5', '0', '228', '0', '932', '594', '180', '39.78']\n",
      "['167', '75.4', '167', '164', '7.9', '1007.3', '770.1', '3', '15.52']\n",
      "['380', '95', '0', '228', '0', '932', '594', '180', '40.76']\n",
      "['380', '0', '0', '228', '0', '932', '670', '270', '53.3']\n",
      "['288', '121', '0', '177', '7', '908', '829', '28', '42.13']\n",
      "['212.6', '0', '100.4', '159.4', '10.4', '1003.8', '903.8', '100', '47.74']\n",
      "['200', '133', '0', '192', '0', '965.4', '806.2', '90', '43.25']\n",
      "['387', '20', '94', '157', '13.9', '938', '845', '3', '25.51']\n",
      "['296', '0', '0', '186', '0', '1090', '769', '7', '18.91']\n",
      "['322.2', '0', '115.6', '196', '10.4', '817.9', '813.4', '28', '31.18']\n",
      "['251.4', '0', '118.3', '188.5', '5.8', '1028.4', '757.7', '14', '29.93']\n",
      "['446', '24', '79', '162', '11.6', '967', '712', '3', '35.36']\n",
      "['304', '76', '0', '228', '0', '932', '670', '270', '54.38']\n",
      "['310', '0', '0', '192', '0', '1012', '830', '3', '11.85']\n",
      "['405', '0', '0', '175', '0', '1120', '695', '28', '52.3']\n",
      "['321', '164', '0', '190', '5', '870', '774', '28', '57.21']\n",
      "['275', '0', '0', '183', '0', '1088', '808', '7', '14.2']\n",
      "['149', '117.6', '91.7', '182.9', '7.1', '953.4', '780.3', '28', '23.52']\n",
      "['186.2', '124.1', '0', '185.7', '0', '1083.4', '764.3', '7', '8']\n",
      "['446', '24', '79', '162', '11.6', '967', '712', '7', '39.3']\n",
      "['401.8', '94.7', '0', '147.4', '11.4', '946.8', '852.1', '7', '54.1']\n",
      "['331', '0', '0', '192', '0', '1025', '821', '3', '14.31']\n",
      "['198.6', '132.4', '0', '192', '0', '978.4', '825.5', '180', '41.72']\n",
      "['222.4', '0', '96.7', '189.3', '4.5', '967.1', '870.3', '100', '40.71']\n",
      "['173.8', '93.4', '159.9', '172.3', '9.7', '1007.2', '746.6', '14', '29.55']\n",
      "['255', '0', '0', '192', '0', '889.8', '945', '28', '18.75']\n",
      "['255.3', '98.8', '77', '188.6', '6.5', '919', '749.3', '28', '33.8']\n",
      "['322', '0', '116', '196', '10', '818', '813', '28', '31.18']\n",
      "['266.2', '112.3', '87.5', '177.9', '10.4', '909.7', '744.5', '28', '39.42']\n",
      "['480', '0', '0', '192', '0', '936.2', '712.2', '3', '24.4']\n",
      "['250', '0', '95.7', '191.8', '5.3', '948.9', '857.2', '3', '8.49']\n",
      "['190.7', '0', '125.4', '162.1', '7.8', '1090', '804', '28', '26.4']\n",
      "['214.9', '53.8', '121.9', '155.6', '9.6', '1014.3', '780.6', '14', '38.6']\n",
      "['277.2', '97.8', '24.5', '160.7', '11.2', '1061.7', '782.5', '100', '66.95']\n",
      "['385', '0', '136', '158', '20', '903', '768', '28', '55.55']\n",
      "['307', '0', '0', '193', '0', '968', '812', '3', '12.54']\n",
      "['295.7', '0', '95.6', '171.5', '8.9', '955.1', '859.2', '28', '39.94']\n",
      "['246.8', '0', '125.1', '143.3', '12', '1086.8', '800.9', '3', '23.52']\n",
      "['525', '0', '0', '189', '0', '1125', '613', '28', '55.94']\n",
      "['250', '0', '0', '182', '0', '1100', '820', '7', '12.73']\n",
      "['251.4', '0', '118.3', '192.9', '5.8', '1043.6', '754.3', '56', '39.27']\n",
      "['540', '0', '0', '173', '0', '1125', '613', '14', '59.76']\n",
      "['190.3', '0', '125.2', '166.6', '9.9', '1079', '798.9', '28', '24.85']\n",
      "['387', '20', '94', '157', '14.3', '938', '845', '7', '36.84']\n",
      "['173', '116', '0', '192', '0', '946.8', '856.8', '7', '11.39']\n",
      "['166.1', '0', '163.3', '176.5', '4.5', '1058.6', '780.1', '56', '28.63']\n",
      "['310', '0', '0', '192', '0', '970', '850', '28', '27.92']\n",
      "['254', '0', '0', '198', '0', '968', '863', '3', '9.31']\n",
      "['190.3', '0', '125.2', '161.9', '9.9', '1088.1', '802.6', '14', '22.72']\n",
      "['145', '0', '179', '202', '8', '824', '869', '28', '10.54']\n",
      "['277.1', '0', '97.4', '160.6', '11.8', '973.9', '875.6', '3', '23.14']\n",
      "['289', '0', '0', '192', '0', '913.2', '895.3', '3', '11.65']\n",
      "['339.2', '0', '0', '185.7', '0', '1069.2', '754.3', '28', '31.9']\n",
      "['200', '0', '0', '180', '0', '1125', '845', '7', '7.84']\n",
      "['295.8', '0', '0', '185.7', '0', '1091.4', '769.3', '28', '25.22']\n",
      "['230', '0', '118.3', '195.5', '4.6', '1029.4', '758.6', '14', '20.08']\n",
      "['425', '106.3', '0', '151.4', '18.6', '936', '803.7', '7', '46.8']\n",
      "['238.1', '0', '94.1', '186.7', '7', '949.9', '847', '56', '39.59']\n",
      "['284', '15', '141', '179', '5.5', '842', '801', '3', '13.4']\n",
      "['349', '0', '0', '192', '0', '1047', '806.9', '3', '15.05']\n",
      "['152', '178', '139', '168', '18', '944', '695', '28', '36.35']\n",
      "['160.2', '188', '146.4', '203.2', '11.3', '828.7', '709.7', '28', '35.31']\n",
      "['202', '11', '141', '206', '1.7', '942', '801', '7', '15.07']\n",
      "['194.7', '0', '100.5', '170.2', '7.5', '998', '901.8', '3', '12.18']\n",
      "['156', '178', '187', '221', '7', '854', '614', '28', '29.41']\n",
      "['222.4', '0', '96.7', '189.3', '4.5', '967.1', '870.3', '14', '24.45']\n",
      "['143.8', '136.3', '106.2', '178.1', '7.5', '941.5', '774.3', '28', '26.15']\n",
      "['168.9', '42.2', '124.3', '158.3', '10.8', '1080.8', '796.2', '100', '48.15']\n",
      "['266', '114', '0', '228', '0', '932', '670', '90', '47.03']\n",
      "['194.7', '0', '100.5', '165.6', '7.5', '1006.4', '905.9', '56', '33.96']\n",
      "['349', '0', '0', '192', '0', '1056', '809', '28', '33.61']\n",
      "['380', '95', '0', '228', '0', '932', '594', '7', '32.82']\n",
      "['151', '0', '184', '167', '12', '991', '772', '28', '15.57']\n",
      "['376', '0', '0', '214.6', '0', '1003.5', '762.4', '3', '16.28']\n",
      "['212', '0', '124.8', '159', '7.8', '1085.4', '799.5', '28', '38.5']\n",
      "['310', '0', '0', '192', '0', '971', '850.6', '3', '9.87']\n",
      "['307', '0', '0', '193', '0', '968', '812', '180', '34.49']\n",
      "['166', '259.7', '0', '183.2', '12.7', '858.8', '826.8', '28', '37.92']\n",
      "['252.5', '0', '0', '185.7', '0', '1111.6', '784.3', '7', '11.48']\n",
      "['475', '118.8', '0', '181.1', '8.9', '852.1', '781.5', '28', '68.3']\n",
      "['229.7', '0', '118.2', '195.2', '6.1', '1028.1', '757.6', '28', '24.54']\n",
      "['158.8', '238.2', '0', '185.7', '0', '1040.6', '734.3', '7', '9.62']\n",
      "['139.9', '132.6', '103.3', '200.3', '7.4', '916', '753.4', '28', '36.44']\n",
      "['349', '0', '0', '192', '0', '1047', '806', '3', '14.99']\n",
      "['157', '236', '0', '192', '0', '935.4', '781.2', '3', '9.69']\n",
      "['122.6', '183.9', '0', '203.5', '0', '958.2', '800.1', '7', '10.35']\n",
      "['218.9', '0', '124.1', '158.5', '11.3', '1078.7', '794.9', '14', '26.05']\n",
      "['331', '0', '0', '192', '0', '978', '825', '90', '37.23']\n",
      "['295', '0', '0', '185', '0', '1069', '769', '28', '25.18']\n",
      "['173.5', '50.1', '173.5', '164.8', '6.5', '1006.2', '793.5', '56', '53.77']\n",
      "['374.3', '0', '0', '190.2', '6.7', '1013.2', '730.4', '28', '39.06']\n",
      "['287.3', '120.5', '93.9', '187.6', '9.2', '904.4', '695.9', '28', '43.8']\n",
      "['298.1', '0', '107', '186.4', '6.1', '879', '815.2', '28', '42.64']\n",
      "['190', '190', '0', '228', '0', '932', '670', '365', '53.69']\n",
      "['350', '0', '0', '186', '0', '1050', '770', '28', '34.29']\n",
      "['303.6', '139.9', '0', '213.5', '6.2', '895.5', '722.5', '28', '33.42']\n",
      "['350', '0', '0', '203', '0', '974', '775', '28', '27.34']\n",
      "['168.9', '42.2', '124.3', '158.3', '10.8', '1080.8', '796.2', '3', '7.4']\n",
      "['339', '0', '0', '185', '0', '1069', '754', '7', '21.16']\n",
      "['252.3', '0', '98.8', '146.3', '14.2', '987.8', '889', '3', '21.78']\n",
      "['380', '95', '0', '228', '0', '932', '594', '365', '43.7']\n",
      "['500', '0', '0', '200', '0', '1125', '613', '180', '51.04']\n",
      "['249.1', '0', '98.8', '158.1', '12.8', '987.8', '889', '28', '30.85']\n",
      "['167', '75.4', '167', '164', '7.9', '1007.3', '770.1', '56', '53.46']\n",
      "['381.4', '0', '0', '185.7', '0', '1104.6', '784.3', '28', '22.49']\n",
      "['500', '0', '0', '200', '0', '1125', '613', '28', '44.09']\n",
      "['212', '141.3', '0', '203.5', '0', '973.4', '750', '28', '33']\n",
      "['255', '0', '0', '192', '0', '889.8', '945', '7', '10.22']\n",
      "['220.8', '147.2', '0', '185.7', '0', '1055', '744.3', '7', '13.09']\n",
      "['192', '288', '0', '192', '0', '929.8', '716.1', '28', '39.32']\n",
      "['213.7', '0', '174.7', '154.8', '10.2', '1053.5', '776.4', '100', '50.08']\n",
      "['190.3', '0', '125.2', '161.9', '9.9', '1088.1', '802.6', '3', '9.45']\n",
      "['540', '0', '0', '162', '2.5', '1040', '676', '28', '79.99']\n",
      "['362.6', '189', '0', '164.9', '11.6', '944.7', '755.8', '91', '79.3']\n",
      "['214.9', '53.8', '121.9', '155.6', '9.6', '1014.3', '780.6', '28', '52.2']\n",
      "['289', '0', '0', '192', '0', '913.2', '895.3', '7', '14.6']\n",
      "['108.3', '162.4', '0', '203.5', '0', '938.2', '849', '28', '20.59']\n",
      "['210.7', '316.1', '0', '185.7', '0', '977', '689.3', '28', '37.81']\n",
      "['362.6', '189', '0', '164.9', '11.6', '944.7', '755.8', '28', '71.3']\n",
      "['170.3', '155.5', '0', '185.7', '0', '1026.6', '724.3', '28', '25.73']\n",
      "['140', '164', '128', '237', '6', '869', '656', '28', '35.23']\n",
      "['540', '0', '0', '173', '0', '1125', '613', '90', '69.66']\n",
      "['135.7', '203.5', '0', '185.7', '0', '1076.2', '759.3', '28', '18.2']\n",
      "['150.9', '0', '183.9', '166.6', '11.6', '991.2', '772.2', '28', '15.57']\n",
      "['469', '117.2', '0', '137.8', '32.2', '852.1', '840.5', '7', '54.9']\n",
      "['290.4', '0', '96.2', '168.1', '9.4', '961.2', '865', '100', '48.97']\n",
      "['167', '75.4', '167', '164', '7.9', '1007.3', '770.1', '100', '56.81']\n",
      "['250.2', '166.8', '0', '203.5', '0', '977.6', '694.1', '7', '19.35']\n",
      "['236', '0', '0', '194', '0', '968', '885', '28', '18.42']\n",
      "['192', '288', '0', '192', '0', '929.8', '716.1', '7', '21.48']\n",
      "['333', '17.5', '163', '167', '17.9', '996', '652', '28', '47.28']\n",
      "['158.8', '238.2', '0', '185.7', '0', '1040.6', '734.3', '28', '21.07']\n",
      "['252.3', '0', '98.8', '146.3', '14.2', '987.8', '889', '28', '50.6']\n",
      "['446', '24', '79', '162', '11.6', '967', '712', '7', '38.02']\n",
      "['254', '0', '0', '198', '0', '968', '863', '365', '29.79']\n",
      "['349', '0', '0', '192', '0', '1047', '806', '360', '42.13']\n",
      "['213.5', '0', '174.2', '159.2', '11.7', '1043.6', '771.9', '3', '15.61']\n",
      "['251.4', '0', '118.3', '188.5', '5.8', '1028.4', '757.7', '28', '29.65']\n",
      "['194.7', '0', '100.5', '170.2', '7.5', '998', '901.8', '56', '43.39']\n",
      "['135', '105', '193', '196', '6', '965', '643', '28', '21.91']\n",
      "['277.1', '0', '97.4', '160.6', '11.8', '973.9', '875.6', '28', '48.28']\n",
      "['251.4', '0', '118.3', '188.5', '5.8', '1028.4', '757.7', '100', '43.58']\n",
      "['387', '20', '94', '157', '14.3', '938', '845', '3', '22.75']\n",
      "['525', '0', '0', '189', '0', '1125', '613', '3', '33.8']\n",
      "['151', '0', '185', '167', '16', '1074', '678', '28', '13.46']\n",
      "['146.5', '114.6', '89.3', '201.9', '8.8', '860', '829.5', '28', '19.99']\n",
      "['362.6', '189', '0', '164.9', '11.6', '944.7', '755.8', '91', '79.3']\n",
      "['313.3', '145', '0', '178.5', '8', '1001.9', '688.7', '28', '41.05']\n",
      "['250.2', '166.8', '0', '203.5', '0', '977.6', '694.1', '28', '36.96']\n",
      "['374', '0', '0', '190', '7', '1013', '730', '28', '39.05']\n",
      "['146', '230', '0', '202', '3', '827', '872', '28', '33.06']\n",
      "['168.9', '42.2', '124.3', '158.3', '10.8', '1080.8', '796.2', '28', '31.12']\n",
      "['212.1', '0', '121.6', '180.3', '5.7', '1057.6', '779.3', '14', '20.92']\n",
      "['400', '0', '0', '187', '0', '1025', '745', '7', '30.14']\n",
      "['212.6', '0', '100.4', '159.4', '10.4', '1003.8', '903.8', '56', '44.4']\n",
      "['275', '0', '0', '183', '0', '1088', '808', '28', '24.5']\n",
      "['540', '0', '0', '173', '0', '1125', '613', '180', '71.62']\n",
      "['376', '0', '0', '214.6', '0', '1003.5', '762.4', '56', '36.3']\n",
      "['314', '0', '113', '170', '10', '925', '783', '28', '38.46']\n",
      "['298', '0', '107', '164', '13', '953', '784', '28', '35.86']\n",
      "['251.4', '0', '118.3', '192.9', '5.8', '1043.6', '754.3', '100', '40.15']\n",
      "['296', '0', '106.7', '221.4', '10.5', '819.2', '778.4', '28', '31.42']\n",
      "['251.4', '0', '118.3', '192.9', '5.8', '1043.6', '754.3', '14', '20.73']\n",
      "['153', '102', '0', '192', '0', '888', '943.1', '3', '4.78']\n",
      "['314', '145.3', '113.2', '178.9', '8', '869.1', '690.2', '28', '46.23']\n",
      "['190.3', '0', '125.2', '166.6', '9.9', '1079', '798.9', '100', '33.56']\n",
      "['446', '24', '79', '162', '11.6', '967', '712', '3', '23.35']\n",
      "['307', '0', '0', '193', '0', '968', '812', '90', '32.92']\n",
      "['516', '0', '0', '162', '8.3', '801', '802', '28', '41.37']\n",
      "['168', '42.1', '163.8', '121.8', '5.7', '1058.7', '780.1', '56', '32.85']\n",
      "['427.5', '47.5', '0', '228', '0', '932', '594', '7', '35.08']\n",
      "['173.5', '50.1', '173.5', '164.8', '6.5', '1006.2', '793.5', '28', '38.2']\n",
      "['333', '0', '0', '192', '0', '931.2', '842.6', '7', '23.4']\n",
      "['339', '0', '0', '197', '0', '968', '781', '7', '20.97']\n",
      "['152', '0', '112', '184', '8', '992', '816', '28', '12.18']\n",
      "['213.8', '98.1', '24.5', '181.7', '6.7', '1066', '785.5', '3', '13.18']\n",
      "['152.7', '144.7', '0', '178.1', '8', '999.7', '822.2', '28', '19.01']\n",
      "['198.6', '132.4', '0', '192', '0', '978.4', '825.5', '7', '14.64']\n",
      "['222.4', '0', '96.7', '189.3', '4.5', '967.1', '870.3', '3', '11.58']\n",
      "['305', '0', '100', '196', '10', '959', '705', '28', '30.12']\n",
      "['375', '0', '0', '186', '0', '1038', '758', '7', '26.06']\n",
      "['297.2', '0', '117.5', '174.8', '9.5', '1022.8', '753.5', '100', '56.74']\n",
      "['148.5', '139.4', '108.6', '192.7', '6.1', '892.4', '780', '28', '23.7']\n",
      "['272.8', '105.1', '81.8', '209.7', '9', '904', '679.7', '28', '37.17']\n",
      "['424', '22', '132', '168', '8.9', '822', '750', '3', '32.11']\n",
      "['359', '19', '141', '154', '10.9', '942', '801', '7', '38.61']\n",
      "['332.5', '142.5', '0', '228', '0', '932', '594', '28', '33.02']\n",
      "['380', '95', '0', '228', '0', '932', '594', '28', '36.45']\n",
      "['446', '24', '79', '162', '11.6', '967', '712', '7', '52.01']\n",
      "['108.3', '162.4', '0', '203.5', '0', '938.2', '849', '7', '7.72']\n",
      "['249.1', '0', '98.8', '158.1', '12.8', '987.8', '889', '14', '28.68']\n",
      "['389.9', '189', '0', '145.9', '22', '944.7', '755.8', '7', '59.09']\n",
      "['250', '0', '95.7', '191.8', '5.3', '948.9', '857.2', '14', '24.66']\n",
      "['213.7', '0', '174.7', '154.8', '10.2', '1053.5', '776.4', '3', '17.57']\n",
      "['165', '128.5', '132.1', '175.1', '8.1', '1005.8', '746.6', '28', '46.39']\n",
      "['182', '45.2', '122', '170.2', '8.2', '1059.4', '780.7', '28', '31.27']\n",
      "['469', '117.2', '0', '137.8', '32.2', '852.1', '840.5', '28', '66.9']\n",
      "['154', '174', '185', '228', '7', '845', '612', '28', '24.34']\n",
      "['250', '0', '0', '182', '0', '1100', '820', '28', '20.87']\n",
      "['200', '133', '0', '192', '0', '965.4', '806.2', '28', '30.44']\n",
      "['172.4', '13.6', '172.4', '156.8', '4.1', '1006.3', '856.4', '14', '29.75']\n",
      "['164.2', '0', '200.1', '181.2', '12.6', '849.3', '846', '28', '15.09']\n",
      "['382.5', '0', '0', '185.7', '0', '1047.8', '739.3', '7', '24.07']\n",
      "['313', '161', '0', '178', '10', '917', '759', '28', '52.44']\n",
      "['250', '180', '95', '159', '9.5', '860', '800', '28', '67.87']\n",
      "['397', '0', '0', '185', '0', '1040', '734', '28', '39.09']\n",
      "['139.7', '163.9', '127.7', '236.7', '5.8', '868.6', '655.6', '28', '35.23']\n",
      "['190.3', '0', '125.2', '161.9', '9.9', '1088.1', '802.6', '56', '38.56']\n",
      "['331', '170', '0', '195', '8', '811', '802', '28', '56.61']\n",
      "['229.7', '0', '118.2', '195.2', '6.1', '1028.1', '757.6', '14', '22.32']\n",
      "['425', '106.3', '0', '153.5', '16.5', '852.1', '887.1', '7', '49.2']\n",
      "['385', '0', '0', '186', '0', '966', '763', '1', '6.27']\n",
      "['238.1', '0', '94.1', '186.7', '7', '949.9', '847', '14', '25.69']\n",
      "['325.6', '166.4', '0', '174', '8.9', '881.6', '790', '28', '61.24']\n",
      "['337.9', '189', '0', '174.9', '9.5', '944.7', '755.8', '91', '67.8']\n",
      "['222.4', '0', '96.7', '189.3', '4.5', '967.1', '870.3', '28', '24.89']\n",
      "['212', '0', '124.8', '159', '7.8', '1085.4', '799.5', '100', '47.82']\n",
      "['181.4', '0', '167', '169.6', '7.6', '1055.6', '777.8', '56', '35.57']\n",
      "['531.3', '0', '0', '141.8', '28.2', '852.1', '893.7', '56', '58.8']\n",
      "['337.9', '189', '0', '174.9', '9.5', '944.7', '755.8', '7', '35.1']\n",
      "['302', '0', '0', '203', '0', '974', '817', '28', '21.75']\n",
      "['313.3', '262.2', '0', '175.5', '8.6', '1046.9', '611.8', '3', '28.8']\n",
      "['332.5', '142.5', '0', '228', '0', '932', '594', '7', '30.28']\n",
      "['300', '0', '0', '184', '0', '1075', '795', '7', '15.58']\n",
      "['337.9', '189', '0', '174.9', '9.5', '944.7', '755.8', '3', '24.1']\n",
      "['388.6', '97.1', '0', '157.9', '12.1', '852.1', '925.7', '7', '34.9']\n",
      "['491', '26', '123', '201', '3.9', '822', '699', '3', '29.55']\n",
      "['165', '0', '143.6', '163.8', '0', '1005.6', '900.9', '3', '14.4']\n",
      "['252.3', '0', '98.8', '146.3', '14.2', '987.8', '889', '56', '55.83']\n",
      "['349', '0', '0', '192', '0', '1056', '809', '3', '15.87']\n",
      "['427.5', '47.5', '0', '228', '0', '932', '594', '270', '43.01']\n",
      "['249.1', '0', '98.8', '158.1', '12.8', '987.8', '889', '3', '15.36']\n",
      "['203.5', '135.7', '0', '185.7', '0', '1076.2', '759.3', '28', '22.63']\n",
      "['132', '206.5', '160.9', '178.9', '5.5', '866.9', '735.6', '28', '33.31']\n",
      "['387', '20', '94', '157', '11.6', '938', '845', '3', '34.77']\n",
      "['425', '106.3', '0', '151.4', '18.6', '936', '803.7', '3', '36.3']\n",
      "['312.7', '144.7', '0', '127.3', '8', '999.7', '822.2', '28', '44.52']\n",
      "['375', '93.8', '0', '126.6', '23.4', '852.1', '992.6', '28', '56.7']\n",
      "['218.2', '54.6', '123.8', '140.8', '11.9', '1075.7', '792.7', '100', '63.53']\n",
      "['300', '0', '0', '184', '0', '1075', '795', '28', '26.85']\n",
      "['162', '190', '148', '179', '19', '838', '741', '28', '33.76']\n",
      "['310', '0', '0', '192', '0', '970', '850', '180', '37.33']\n",
      "['310', '0', '0', '192', '0', '1012', '830', '120', '38.7']\n",
      "['401.8', '94.7', '0', '147.4', '11.4', '946.8', '852.1', '56', '73.7']\n",
      "['213.7', '98.1', '24.5', '181.7', '6.9', '1065.8', '785.4', '100', '53.9']\n",
      "['153', '145', '113', '178', '8', '1002', '689', '28', '25.56']\n",
      "['273', '105', '82', '210', '9', '904', '680', '28', '37.17']\n",
      "['214.9', '53.8', '121.9', '155.6', '9.6', '1014.3', '780.6', '56', '53.96']\n",
      "['172.4', '13.6', '172.4', '156.8', '4.1', '1006.3', '856.4', '3', '21.29']\n",
      "['516', '0', '0', '162', '8.2', '801', '802', '28', '41.37']\n",
      "['116', '173', '0', '192', '0', '909.8', '891.9', '7', '10.09']\n",
      "['331', '0', '0', '192', '0', '1025', '821', '7', '17.44']\n",
      "['212.1', '0', '121.6', '180.3', '5.7', '1057.6', '779.3', '100', '39.61']\n",
      "['155', '0', '143', '193', '9', '1047', '697', '28', '12.46']\n",
      "['401.8', '94.7', '0', '147.4', '11.4', '946.8', '852.1', '3', '41.1']\n",
      "['279.8', '128.9', '100.4', '172.4', '9.5', '825.1', '804.9', '28', '52.83']\n",
      "['158.4', '0', '194.9', '219.7', '11', '897.7', '712.9', '28', '8.54']\n",
      "['265', '111', '86', '195', '6', '833', '790', '28', '41.54']\n",
      "['237.5', '237.5', '0', '228', '0', '932', '594', '270', '38.41']\n",
      "['290.4', '0', '96.2', '168.1', '9.4', '961.2', '865', '3', '22.5']\n",
      "['425', '106.3', '0', '153.5', '16.5', '852.1', '887.1', '56', '64.3']\n",
      "['277.1', '0', '97.4', '160.6', '11.8', '973.9', '875.6', '14', '41.89']\n",
      "['213.5', '0', '174.2', '154.6', '11.7', '1052.3', '775.5', '14', '33.7']\n",
      "['146', '173', '0', '182', '3', '986', '817', '28', '23.74']\n",
      "['425', '106.3', '0', '153.5', '16.5', '852.1', '887.1', '7', '49.2']\n",
      "['500.1', '0', '0', '200', '3', '1124.4', '613.2', '28', '44.13']\n",
      "['295.7', '0', '95.6', '171.5', '8.9', '955.1', '859.2', '56', '48.72']\n",
      "['213.5', '0', '174.2', '154.6', '11.7', '1052.3', '775.5', '56', '51.43']\n",
      "['141.9', '166.6', '129.7', '173.5', '10.9', '882.6', '785.3', '28', '44.61']\n",
      "['491', '26', '123', '201', '3.9', '822', '699', '28', '57.92']\n",
      "['148.1', '0', '182.1', '181.4', '15', '838.9', '884.3', '28', '15.53']\n",
      "['313.3', '262.2', '0', '175.5', '8.6', '1046.9', '611.8', '91', '66.6']\n",
      "['362.6', '189', '0', '164.9', '11.6', '944.7', '755.8', '56', '77.3']\n",
      "['250', '0', '95.7', '191.8', '5.3', '948.9', '857.2', '100', '41.16']\n",
      "['212', '0', '124.8', '159', '7.8', '1085.4', '799.5', '56', '45.08']\n",
      "['148', '0', '137', '158', '16', '1002', '830', '28', '17.95']\n",
      "['393', '0', '0', '192', '0', '940.6', '785.6', '28', '39.6']\n",
      "['286.3', '200.9', '0', '144.7', '11.2', '1004.6', '803.7', '3', '24.4']\n",
      "['233.8', '0', '94.6', '197.9', '4.6', '947', '852.2', '100', '34.56']\n",
      "['213.7', '0', '174.7', '154.8', '10.2', '1053.5', '776.4', '56', '46.64']\n",
      "['254', '0', '0', '198', '0', '968', '863', '180', '27.63']\n",
      "['475', '0', '0', '228', '0', '932', '594', '365', '41.93']\n",
      "['379.5', '151.2', '0', '153.9', '15.9', '1134.3', '605', '91', '56.5']\n",
      "['355.9', '0', '141.6', '193.3', '11', '801.4', '778.4', '28', '40.87']\n",
      "['153', '145', '0', '178', '8', '1000', '822', '28', '19.01']\n",
      "['318', '0', '126', '210', '6', '861', '737', '28', '40.06']\n",
      "['159.1', '186.7', '0', '175.6', '11.3', '989.6', '788.9', '28', '32.77']\n",
      "['285', '190', '0', '163', '7.6', '1031', '685', '28', '53.58']\n",
      "['379.5', '151.2', '0', '153.9', '15.9', '1134.3', '605', '3', '28.6']\n",
      "['314', '145', '113', '179', '8', '869', '690', '28', '46.23']\n",
      "['331', '0', '0', '192', '0', '879', '825', '3', '13.52']\n",
      "['424', '22', '132', '178', '8.5', '822', '750', '28', '62.05']\n",
      "['159', '149', '116', '175', '15', '953', '720', '28', '27.68']\n",
      "['318.8', '212.5', '0', '155.7', '14.3', '852.1', '880.4', '56', '66.1']\n",
      "['168', '42.1', '163.8', '121.8', '5.7', '1058.7', '780.1', '14', '17.82']\n",
      "['385', '0', '0', '186', '0', '966', '763', '7', '23.22']\n",
      "['212.1', '0', '121.6', '180.3', '5.7', '1057.6', '779.3', '56', '34.2']\n",
      "['194.7', '0', '100.5', '165.6', '7.5', '1006.4', '905.9', '14', '24.99']\n",
      "['239.6', '359.4', '0', '185.7', '0', '941.6', '664.3', '28', '39.44']\n",
      "['310', '0', '0', '192', '0', '970', '850', '360', '38.11']\n",
      "['181.4', '0', '167', '169.6', '7.6', '1055.6', '777.8', '14', '21.6']\n",
      "['310', '0', '0', '192', '0', '970', '850', '90', '34.68']\n",
      "['375', '0', '0', '186', '0', '1038', '758', '28', '38.21']\n",
      "['310', '0', '0', '192', '0', '970', '850', '7', '14.99']\n",
      "['297', '0', '0', '186', '0', '1040', '734', '7', '30.96']\n",
      "['295.7', '0', '95.6', '171.5', '8.9', '955.1', '859.2', '3', '22.95']\n",
      "['475', '118.8', '0', '181.1', '8.9', '852.1', '781.5', '7', '55.6']\n",
      "['144', '15', '195', '176', '6', '1021', '709', '28', '15.34']\n",
      "['446', '24', '79', '162', '10.3', '967', '712', '56', '54.77']\n",
      "['321.4', '0', '127.9', '182.5', '11.5', '870.1', '779.7', '28', '37.27']\n",
      "['350', '0', '0', '203', '0', '974', '775', '7', '18.13']\n",
      "['313.3', '145', '0', '178.5', '8', '867.2', '824', '28', '40.93']\n",
      "['316.1', '210.7', '0', '185.7', '0', '977', '689.3', '7', '24.44']\n",
      "['362.6', '189', '0', '164.9', '11.6', '944.7', '755.8', '7', '55.9']\n",
      "['397', '0', '0', '185.7', '0', '1040.6', '734.3', '28', '33.08']\n",
      "['540', '0', '0', '173', '0', '1125', '613', '28', '67.31']\n",
      "['313.3', '262.2', '0', '175.5', '8.6', '1046.9', '611.8', '28', '59.8']\n",
      "['355', '19', '97', '145', '12.3', '967', '871', '28', '55.45']\n",
      "['307', '0', '0', '193', '0', '968', '812', '28', '27.53']\n",
      "['312.9', '160.5', '0', '177.6', '9.6', '916.6', '759.5', '28', '52.45']\n",
      "['153.6', '144.2', '112.3', '220.1', '10.1', '923.2', '657.9', '28', '16.5']\n",
      "['214.9', '53.8', '121.9', '155.6', '9.6', '1014.3', '780.6', '100', '56.63']\n",
      "['143', '169.4', '142.7', '190.7', '8.4', '967.4', '643.5', '28', '29.73']\n",
      "['362.6', '189', '0', '164.9', '11.6', '944.7', '755.8', '3', '35.3']\n",
      "['153', '102', '0', '192', '0', '888', '943.1', '28', '17.96']\n",
      "['194.7', '0', '100.5', '170.2', '7.5', '998', '901.8', '100', '44.28']\n",
      "['142', '167', '130', '174', '11', '883', '785', '28', '44.61']\n",
      "['272.8', '181.9', '0', '185.7', '0', '1012.4', '714.3', '28', '31.38']\n",
      "['133', '200', '0', '192', '0', '927.4', '839.2', '90', '36.59']\n",
      "['387', '20', '94', '157', '11.6', '938', '845', '7', '41.67']\n",
      "['389.9', '189', '0', '145.9', '22', '944.7', '755.8', '91', '82.6']\n",
      "['332.5', '142.5', '0', '228', '0', '932', '594', '270', '40.27']\n",
      "['190', '190', '0', '228', '0', '932', '670', '90', '42.33']\n",
      "['275.1', '0', '121.4', '159.5', '9.9', '1053.6', '777.5', '56', '56.85']\n",
      "['166.1', '0', '163.3', '176.5', '4.5', '1058.6', '780.1', '14', '25.48']\n",
      "['469', '117.2', '0', '137.8', '32.2', '852.1', '840.5', '3', '40.2']\n",
      "['356', '119', '0', '160', '9', '1061', '657', '28', '59']\n",
      "['307', '0', '0', '193', '0', '968', '812', '365', '36.15']\n",
      "['200', '133', '0', '192', '0', '965.4', '806.2', '7', '17.17']\n",
      "['313', '145', '0', '178', '8', '867', '824', '28', '44.39']\n",
      "['251.8', '0', '99.9', '146.1', '12.4', '1006', '899.8', '3', '21.02']\n",
      "['218.9', '0', '124.1', '158.5', '11.3', '1078.7', '794.9', '3', '15.34']\n",
      "['277', '0', '0', '191', '0', '968', '856', '14', '21.26']\n",
      "['520', '0', '0', '175', '5.2', '870', '805', '28', '51.02']\n",
      "['277.2', '97.8', '24.5', '160.7', '11.2', '1061.7', '782.5', '28', '63.14']\n",
      "['401.8', '94.7', '0', '147.4', '11.4', '946.8', '852.1', '28', '68.5']\n",
      "['397', '0', '0', '186', '0', '1040', '734', '28', '36.94']\n",
      "['362.6', '189', '0', '164.9', '11.6', '944.7', '755.8', '28', '71.3']\n",
      "['236', '157', '0', '192', '0', '972.6', '749.1', '3', '13.57']\n",
      "['141.3', '212', '0', '203.5', '0', '971.8', '748.5', '90', '39.66']\n",
      "['231.8', '0', '121.6', '174', '6.7', '1056.4', '778.5', '28', '33.73']\n",
      "['349', '0', '0', '192', '0', '1047', '806', '180', '41.05']\n",
      "['167.4', '129.9', '128.6', '175.5', '7.8', '1006.3', '746.6', '3', '14.94']\n",
      "['491', '26', '123', '210', '3.9', '882', '699', '3', '25.61']\n",
      "['213.5', '0', '174.2', '159.2', '11.7', '1043.6', '771.9', '28', '44.64']\n",
      "['393', '0', '0', '192', '0', '940', '758', '28', '39.58']\n",
      "['305.3', '203.5', '0', '203.5', '0', '965.4', '631', '7', '25.89']\n",
      "['298', '0', '107', '210', '11', '880', '744', '28', '31.87']\n",
      "['287', '121', '94', '188', '9', '904', '696', '28', '41.94']\n",
      "['425', '106.3', '0', '151.4', '18.6', '936', '803.7', '28', '61.8']\n",
      "['250.2', '166.8', '0', '203.5', '0', '977.6', '694.1', '90', '47.71']\n",
      "['277.2', '97.8', '24.5', '160.7', '11.2', '1061.7', '782.5', '56', '66.82']\n",
      "['284', '119.7', '0', '168.3', '7.2', '970.4', '794.2', '28', '40.93']\n",
      "['424', '22', '132', '178', '8.5', '882', '750', '3', '32.01']\n",
      "['167.4', '129.9', '128.6', '175.5', '7.8', '1006.3', '746.6', '100', '53.66']\n",
      "['350', '0', '0', '203', '0', '974', '775', '180', '32.72']\n",
      "['202', '11', '141', '206', '1.7', '942', '801', '28', '21.97']\n",
      "['139.6', '209.4', '0', '192', '0', '1047', '806.9', '28', '28.24']\n",
      "['238', '0', '0', '185', '0', '1118', '789', '28', '17.54']\n",
      "['424', '22', '132', '168', '8.9', '822', '750', '7', '40.29']\n",
      "['239.6', '359.4', '0', '185.7', '0', '941.6', '664.3', '7', '25.42']\n",
      "['401.8', '94.7', '0', '147.4', '11.4', '946.8', '852.1', '91', '75.5']\n",
      "['425', '106.3', '0', '153.5', '16.5', '852.1', '887.1', '28', '60.29']\n",
      "['446', '24', '79', '162', '11.6', '967', '712', '3', '25.02']\n",
      "['154', '144', '112', '220', '10', '923', '658', '28', '16.5']\n",
      "['380', '0', '0', '228', '0', '932', '670', '365', '52.52']\n",
      "['178', '129.8', '118.6', '179.9', '3.6', '1007.3', '746.8', '14', '34.24']\n",
      "['164', '163', '128', '197', '8', '961', '641', '28', '27.23']\n",
      "['160', '250', '0', '168', '12', '1049', '688', '28', '39.45']\n",
      "['167.4', '129.9', '128.6', '175.5', '7.8', '1006.3', '746.6', '28', '41.2']\n",
      "['165', '0', '143.6', '163.8', '0', '1005.6', '900.9', '100', '37.96']\n",
      "['233.8', '0', '94.6', '197.9', '4.6', '947', '852.2', '28', '22.84']\n",
      "['316.1', '210.7', '0', '185.7', '0', '977', '689.3', '28', '38.7']\n",
      "['323.7', '282.8', '0', '183.8', '10.3', '942.7', '659.9', '56', '80.2']\n",
      "['250', '0', '95.7', '191.8', '5.3', '948.9', '857.2', '28', '27.22']\n",
      "['387', '20', '94', '157', '14.3', '938', '845', '28', '50.24']\n",
      "['158', '0', '195', '220', '11', '898', '713', '28', '8.54']\n",
      "['288', '192', '0', '192', '0', '932', '717.8', '3', '16.11']\n",
      "['213.5', '0', '174.2', '154.6', '11.7', '1052.3', '775.5', '100', '59.3']\n",
      "['213.7', '98.1', '24.5', '181.7', '6.9', '1065.8', '785.4', '28', '45.71']\n",
      "['190.3', '0', '125.2', '166.6', '9.9', '1079', '798.9', '3', '12.55']\n",
      "['313', '0', '0', '178', '8', '1000', '822', '28', '25.1']\n",
      "['296', '0', '0', '192', '0', '1085', '765', '90', '29.39']\n",
      "['359', '19', '141', '154', '10.9', '942', '801', '28', '62.94']\n",
      "['153.1', '145', '113', '178.5', '8', '867.2', '824', '28', '26.23']\n",
      "['298', '0', '107', '186', '6', '879', '815', '28', '42.64']\n",
      "['140', '133', '103', '200', '7', '916', '753', '28', '36.44']\n",
      "['139.6', '209.4', '0', '192', '0', '1047', '806.9', '180', '44.21']\n",
      "['147', '115', '89', '202', '9', '860', '829', '28', '19.99']\n",
      "['288', '192', '0', '192', '0', '932', '717.8', '7', '23.52']\n",
      "['183.9', '122.6', '0', '203.5', '0', '959.2', '800', '7', '10.79']\n",
      "['203.5', '305.3', '0', '203.5', '0', '963.4', '630', '3', '9.56']\n",
      "['144.8', '0', '133.6', '180.8', '11.1', '979.5', '811.5', '28', '13.2']\n",
      "['141.3', '212', '0', '203.5', '0', '971.8', '748.5', '7', '10.39']\n",
      "['297.2', '0', '117.5', '174.8', '9.5', '1022.8', '753.5', '3', '21.91']\n",
      "['135', '0', '166', '180', '10', '961', '805', '28', '13.29']\n",
      "['531.3', '0', '0', '141.8', '28.2', '852.1', '893.7', '3', '41.3']\n",
      "['276.4', '116', '90.3', '179.6', '8.9', '870.1', '768.3', '28', '44.28']\n",
      "['342', '38', '0', '228', '0', '932', '670', '270', '55.06']\n",
      "['540', '0', '0', '173', '0', '1125', '613', '7', '52.61']\n"
     ]
    }
   ],
   "source": [
    "# Abre el archivo CVS separado por comas\n",
    "with open('concrete.csv') as f:\n",
    "    # Divide cada línea del archivo en una lista de valores separados por comas\n",
    "    lineas = [linea.strip().split(',') for linea in f.readlines()]\n",
    "    # Imprime la lista de valores de cada línea\n",
    "    for linea in lineas:\n",
    "        print(linea)"
   ]
  },
  {
   "cell_type": "markdown",
   "metadata": {
    "id": "PnuQzhXNBYnl"
   },
   "source": [
    "Aqui usamos un archivo CVS que es separado por comas, pero esta forma la podríamos utilizar también para un archivo separado por espacios o cualquier otro caracter. "
   ]
  },
  {
   "cell_type": "code",
   "execution_count": 41,
   "metadata": {
    "id": "eL2TYPzqxQ0D"
   },
   "outputs": [
    {
     "name": "stdout",
     "output_type": "stream",
     "text": [
      "['Muestra', 'Profundidad_m', 'Humedad_%', 'Densidad_kg-m3', 'LL_%', 'LP_%', 'IP_%', 'Clasificacion_SUCS']\n",
      "['S-001', '2.5', '18.5', '1.85', '45.2', '22.1', '23.1', 'CL']\n",
      "['S-002', '5.0', '22.3', '1.92', '38.7', '18.9', '19.8', 'ML']\n",
      "['S-003', '7.5', '15.2', '2.05', '52.4', '25.6', '26.8', 'CH']\n",
      "['S-004', '10.0', '28.7', '1.78', '41.3', '19.2', '22.1', 'CL']\n",
      "['S-005', '12.5', '35.2', '1.65', '55.8', '28.4', '27.4', 'CH']\n",
      "['S-006', '15.0', '19.8', '1.98', '35.2', '16.8', '18.4', 'ML']\n"
     ]
    }
   ],
   "source": [
    "# Abre el archivo TXT separado por espacios\n",
    "with open('ensayos_suelos.txt', 'r') as ensayos:\n",
    "    # Divide cada línea del archivo en una lista de valores separados por espacios\n",
    "    lineas = [linea.strip().split('/') for linea in ensayos.readlines()]\n",
    "    # Imprime la lista de valores de cada línea\n",
    "    for linea in lineas:\n",
    "        print(linea)"
   ]
  },
  {
   "cell_type": "markdown",
   "metadata": {
    "id": "3vLGD7ruyB7Y"
   },
   "source": [
    "#### Otras posibilidades\n",
    "que veremos y usaremos más adelante\n"
   ]
  },
  {
   "cell_type": "markdown",
   "metadata": {
    "id": "ZPyCgzFxAUIf"
   },
   "source": [
    "1. Usando la librería Pandas para archivos CSV "
   ]
  },
  {
   "cell_type": "code",
   "execution_count": 42,
   "metadata": {
    "id": "vhFEwP6oAc1k"
   },
   "outputs": [
    {
     "name": "stdout",
     "output_type": "stream",
     "text": [
      "      cement   slag    ash  water  superplastic  coarseagg  fineagg  age  \\\n",
      "0      141.3  212.0    0.0  203.5           0.0      971.8    748.5   28   \n",
      "1      168.9   42.2  124.3  158.3          10.8     1080.8    796.2   14   \n",
      "2      250.0    0.0   95.7  187.4           5.5      956.9    861.2   28   \n",
      "3      266.0  114.0    0.0  228.0           0.0      932.0    670.0   28   \n",
      "4      154.8  183.4    0.0  193.3           9.1     1047.4    696.7   28   \n",
      "...      ...    ...    ...    ...           ...        ...      ...  ...   \n",
      "1025   135.0    0.0  166.0  180.0          10.0      961.0    805.0   28   \n",
      "1026   531.3    0.0    0.0  141.8          28.2      852.1    893.7    3   \n",
      "1027   276.4  116.0   90.3  179.6           8.9      870.1    768.3   28   \n",
      "1028   342.0   38.0    0.0  228.0           0.0      932.0    670.0  270   \n",
      "1029   540.0    0.0    0.0  173.0           0.0     1125.0    613.0    7   \n",
      "\n",
      "      strength  \n",
      "0        29.89  \n",
      "1        23.51  \n",
      "2        29.22  \n",
      "3        45.85  \n",
      "4        18.29  \n",
      "...        ...  \n",
      "1025     13.29  \n",
      "1026     41.30  \n",
      "1027     44.28  \n",
      "1028     55.06  \n",
      "1029     52.61  \n",
      "\n",
      "[1030 rows x 9 columns]\n"
     ]
    }
   ],
   "source": [
    "import pandas as pd\n",
    "\n",
    "# Carga el archivo CSV en un dataframe de Pandas\n",
    "df = pd.read_csv('concrete.csv')\n",
    "# Imprime el dataframe\n",
    "print(df)"
   ]
  },
  {
   "cell_type": "markdown",
   "metadata": {
    "id": "aokz_6dNAkfi"
   },
   "source": [
    "2. Usando la librería Numpy para archivos CSV y TXT"
   ]
  },
  {
   "cell_type": "code",
   "execution_count": 43,
   "metadata": {
    "id": "PAzzm9thAsST"
   },
   "outputs": [
    {
     "ename": "ValueError",
     "evalue": "could not convert string 'cement' to float64 at row 0, column 1.",
     "output_type": "error",
     "traceback": [
      "\u001b[1;31m---------------------------------------------------------------------------\u001b[0m",
      "\u001b[1;31mValueError\u001b[0m                                Traceback (most recent call last)",
      "\u001b[1;31mValueError\u001b[0m: could not convert string to float: 'cement'",
      "\nThe above exception was the direct cause of the following exception:\n",
      "\u001b[1;31mValueError\u001b[0m                                Traceback (most recent call last)",
      "Cell \u001b[1;32mIn[43], line 4\u001b[0m\n\u001b[0;32m      1\u001b[0m \u001b[38;5;28;01mimport\u001b[39;00m \u001b[38;5;21;01mnumpy\u001b[39;00m \u001b[38;5;28;01mas\u001b[39;00m \u001b[38;5;21;01mnp\u001b[39;00m\n\u001b[0;32m      3\u001b[0m \u001b[38;5;66;03m# Carga el archivo CSV o TXT en una matriz de Numpy\u001b[39;00m\n\u001b[1;32m----> 4\u001b[0m matriz \u001b[38;5;241m=\u001b[39m \u001b[43mnp\u001b[49m\u001b[38;5;241;43m.\u001b[39;49m\u001b[43mloadtxt\u001b[49m\u001b[43m(\u001b[49m\u001b[38;5;124;43m'\u001b[39;49m\u001b[38;5;124;43mconcrete.csv\u001b[39;49m\u001b[38;5;124;43m'\u001b[39;49m\u001b[43m,\u001b[49m\u001b[43m \u001b[49m\u001b[43mdelimiter\u001b[49m\u001b[38;5;241;43m=\u001b[39;49m\u001b[38;5;124;43m'\u001b[39;49m\u001b[38;5;124;43m,\u001b[39;49m\u001b[38;5;124;43m'\u001b[39;49m\u001b[43m)\u001b[49m\n\u001b[0;32m      5\u001b[0m \u001b[38;5;66;03m# Imprime la matriz\u001b[39;00m\n\u001b[0;32m      6\u001b[0m \u001b[38;5;28mprint\u001b[39m(matriz)\n",
      "File \u001b[1;32mc:\\Users\\asdof\\AppData\\Local\\Programs\\Python\\Python312\\Lib\\site-packages\\numpy\\lib\\npyio.py:1373\u001b[0m, in \u001b[0;36mloadtxt\u001b[1;34m(fname, dtype, comments, delimiter, converters, skiprows, usecols, unpack, ndmin, encoding, max_rows, quotechar, like)\u001b[0m\n\u001b[0;32m   1370\u001b[0m \u001b[38;5;28;01mif\u001b[39;00m \u001b[38;5;28misinstance\u001b[39m(delimiter, \u001b[38;5;28mbytes\u001b[39m):\n\u001b[0;32m   1371\u001b[0m     delimiter \u001b[38;5;241m=\u001b[39m delimiter\u001b[38;5;241m.\u001b[39mdecode(\u001b[38;5;124m'\u001b[39m\u001b[38;5;124mlatin1\u001b[39m\u001b[38;5;124m'\u001b[39m)\n\u001b[1;32m-> 1373\u001b[0m arr \u001b[38;5;241m=\u001b[39m \u001b[43m_read\u001b[49m\u001b[43m(\u001b[49m\u001b[43mfname\u001b[49m\u001b[43m,\u001b[49m\u001b[43m \u001b[49m\u001b[43mdtype\u001b[49m\u001b[38;5;241;43m=\u001b[39;49m\u001b[43mdtype\u001b[49m\u001b[43m,\u001b[49m\u001b[43m \u001b[49m\u001b[43mcomment\u001b[49m\u001b[38;5;241;43m=\u001b[39;49m\u001b[43mcomment\u001b[49m\u001b[43m,\u001b[49m\u001b[43m \u001b[49m\u001b[43mdelimiter\u001b[49m\u001b[38;5;241;43m=\u001b[39;49m\u001b[43mdelimiter\u001b[49m\u001b[43m,\u001b[49m\n\u001b[0;32m   1374\u001b[0m \u001b[43m            \u001b[49m\u001b[43mconverters\u001b[49m\u001b[38;5;241;43m=\u001b[39;49m\u001b[43mconverters\u001b[49m\u001b[43m,\u001b[49m\u001b[43m \u001b[49m\u001b[43mskiplines\u001b[49m\u001b[38;5;241;43m=\u001b[39;49m\u001b[43mskiprows\u001b[49m\u001b[43m,\u001b[49m\u001b[43m \u001b[49m\u001b[43musecols\u001b[49m\u001b[38;5;241;43m=\u001b[39;49m\u001b[43musecols\u001b[49m\u001b[43m,\u001b[49m\n\u001b[0;32m   1375\u001b[0m \u001b[43m            \u001b[49m\u001b[43munpack\u001b[49m\u001b[38;5;241;43m=\u001b[39;49m\u001b[43munpack\u001b[49m\u001b[43m,\u001b[49m\u001b[43m \u001b[49m\u001b[43mndmin\u001b[49m\u001b[38;5;241;43m=\u001b[39;49m\u001b[43mndmin\u001b[49m\u001b[43m,\u001b[49m\u001b[43m \u001b[49m\u001b[43mencoding\u001b[49m\u001b[38;5;241;43m=\u001b[39;49m\u001b[43mencoding\u001b[49m\u001b[43m,\u001b[49m\n\u001b[0;32m   1376\u001b[0m \u001b[43m            \u001b[49m\u001b[43mmax_rows\u001b[49m\u001b[38;5;241;43m=\u001b[39;49m\u001b[43mmax_rows\u001b[49m\u001b[43m,\u001b[49m\u001b[43m \u001b[49m\u001b[43mquote\u001b[49m\u001b[38;5;241;43m=\u001b[39;49m\u001b[43mquotechar\u001b[49m\u001b[43m)\u001b[49m\n\u001b[0;32m   1378\u001b[0m \u001b[38;5;28;01mreturn\u001b[39;00m arr\n",
      "File \u001b[1;32mc:\\Users\\asdof\\AppData\\Local\\Programs\\Python\\Python312\\Lib\\site-packages\\numpy\\lib\\npyio.py:1016\u001b[0m, in \u001b[0;36m_read\u001b[1;34m(fname, delimiter, comment, quote, imaginary_unit, usecols, skiplines, max_rows, converters, ndmin, unpack, dtype, encoding)\u001b[0m\n\u001b[0;32m   1013\u001b[0m     data \u001b[38;5;241m=\u001b[39m _preprocess_comments(data, comments, encoding)\n\u001b[0;32m   1015\u001b[0m \u001b[38;5;28;01mif\u001b[39;00m read_dtype_via_object_chunks \u001b[38;5;129;01mis\u001b[39;00m \u001b[38;5;28;01mNone\u001b[39;00m:\n\u001b[1;32m-> 1016\u001b[0m     arr \u001b[38;5;241m=\u001b[39m \u001b[43m_load_from_filelike\u001b[49m\u001b[43m(\u001b[49m\n\u001b[0;32m   1017\u001b[0m \u001b[43m        \u001b[49m\u001b[43mdata\u001b[49m\u001b[43m,\u001b[49m\u001b[43m \u001b[49m\u001b[43mdelimiter\u001b[49m\u001b[38;5;241;43m=\u001b[39;49m\u001b[43mdelimiter\u001b[49m\u001b[43m,\u001b[49m\u001b[43m \u001b[49m\u001b[43mcomment\u001b[49m\u001b[38;5;241;43m=\u001b[39;49m\u001b[43mcomment\u001b[49m\u001b[43m,\u001b[49m\u001b[43m \u001b[49m\u001b[43mquote\u001b[49m\u001b[38;5;241;43m=\u001b[39;49m\u001b[43mquote\u001b[49m\u001b[43m,\u001b[49m\n\u001b[0;32m   1018\u001b[0m \u001b[43m        \u001b[49m\u001b[43mimaginary_unit\u001b[49m\u001b[38;5;241;43m=\u001b[39;49m\u001b[43mimaginary_unit\u001b[49m\u001b[43m,\u001b[49m\n\u001b[0;32m   1019\u001b[0m \u001b[43m        \u001b[49m\u001b[43musecols\u001b[49m\u001b[38;5;241;43m=\u001b[39;49m\u001b[43musecols\u001b[49m\u001b[43m,\u001b[49m\u001b[43m \u001b[49m\u001b[43mskiplines\u001b[49m\u001b[38;5;241;43m=\u001b[39;49m\u001b[43mskiplines\u001b[49m\u001b[43m,\u001b[49m\u001b[43m \u001b[49m\u001b[43mmax_rows\u001b[49m\u001b[38;5;241;43m=\u001b[39;49m\u001b[43mmax_rows\u001b[49m\u001b[43m,\u001b[49m\n\u001b[0;32m   1020\u001b[0m \u001b[43m        \u001b[49m\u001b[43mconverters\u001b[49m\u001b[38;5;241;43m=\u001b[39;49m\u001b[43mconverters\u001b[49m\u001b[43m,\u001b[49m\u001b[43m \u001b[49m\u001b[43mdtype\u001b[49m\u001b[38;5;241;43m=\u001b[39;49m\u001b[43mdtype\u001b[49m\u001b[43m,\u001b[49m\n\u001b[0;32m   1021\u001b[0m \u001b[43m        \u001b[49m\u001b[43mencoding\u001b[49m\u001b[38;5;241;43m=\u001b[39;49m\u001b[43mencoding\u001b[49m\u001b[43m,\u001b[49m\u001b[43m \u001b[49m\u001b[43mfilelike\u001b[49m\u001b[38;5;241;43m=\u001b[39;49m\u001b[43mfilelike\u001b[49m\u001b[43m,\u001b[49m\n\u001b[0;32m   1022\u001b[0m \u001b[43m        \u001b[49m\u001b[43mbyte_converters\u001b[49m\u001b[38;5;241;43m=\u001b[39;49m\u001b[43mbyte_converters\u001b[49m\u001b[43m)\u001b[49m\n\u001b[0;32m   1024\u001b[0m \u001b[38;5;28;01melse\u001b[39;00m:\n\u001b[0;32m   1025\u001b[0m     \u001b[38;5;66;03m# This branch reads the file into chunks of object arrays and then\u001b[39;00m\n\u001b[0;32m   1026\u001b[0m     \u001b[38;5;66;03m# casts them to the desired actual dtype.  This ensures correct\u001b[39;00m\n\u001b[0;32m   1027\u001b[0m     \u001b[38;5;66;03m# string-length and datetime-unit discovery (like `arr.astype()`).\u001b[39;00m\n\u001b[0;32m   1028\u001b[0m     \u001b[38;5;66;03m# Due to chunking, certain error reports are less clear, currently.\u001b[39;00m\n\u001b[0;32m   1029\u001b[0m     \u001b[38;5;28;01mif\u001b[39;00m filelike:\n",
      "\u001b[1;31mValueError\u001b[0m: could not convert string 'cement' to float64 at row 0, column 1."
     ]
    }
   ],
   "source": [
    "import numpy as np\n",
    "\n",
    "# Carga el archivo CSV o TXT en una matriz de Numpy\n",
    "matriz = np.loadtxt('concrete.csv', delimiter=',')\n",
    "# Imprime la matriz\n",
    "print(matriz)\n"
   ]
  },
  {
   "cell_type": "markdown",
   "metadata": {
    "id": "4rohnSbMA-Lo"
   },
   "source": [
    "Cada método tiene sus propias ventajas y desventajas, dependiendo de las necesidades específicas del programa/proyecto. En general, usar la librería `csv` es una buena opción si necesitas procesar datos en formato CSV, mientras que la librería `Pandas` ofrece una gran flexibilidad para trabajar con datos tabulares. La función `readlines()` es útil para leer archivos de texto con una estructura más libre y la librería `Numpy` es especialmente útil para manejar datos numéricos."
   ]
  },
  {
   "cell_type": "markdown",
   "metadata": {
    "id": "Q-eOvEEunCqB"
   },
   "source": [
    "### Guardando archivos\n",
    "\n",
    "Si queremos guardar una cadena en un archivo tenemos que abrirlo primero con el parámetro 'w' (*write* que significa escribir en inglés)."
   ]
  },
  {
   "cell_type": "code",
   "execution_count": 44,
   "metadata": {
    "id": "WoKi1cLuzLMe"
   },
   "outputs": [],
   "source": [
    "with open('datos.txt', 'w') as o:\n",
    "    o.write(\"Hola mundo \\n\")"
   ]
  },
  {
   "cell_type": "markdown",
   "metadata": {
    "id": "dwos9dGD0klp"
   },
   "source": [
    "Podemos ver que el archivo fue creado:"
   ]
  },
  {
   "cell_type": "code",
   "execution_count": 45,
   "metadata": {
    "id": "re6BNYbx0n5O"
   },
   "outputs": [
    {
     "data": {
      "text/plain": [
       "['$RECYCLE.BIN',\n",
       " 'Archivos de Outlook',\n",
       " 'AuMax',\n",
       " 'AutoCAD.2022_Spanish_64bit',\n",
       " 'Clase4.ipynb',\n",
       " 'CN_FRVM_arcstyle.nc',\n",
       " 'CN_FRVM_Contorno.nc',\n",
       " 'CN_FRVM_contour.nc',\n",
       " 'CN_FRVM_Mayor.nc',\n",
       " 'CN_FRVM_sample.nc',\n",
       " 'cn_frvm_scaled.nc',\n",
       " 'CN_FRVM_simple.nc',\n",
       " 'CN_FRVM_ultimo.nc',\n",
       " 'concrete.csv',\n",
       " 'datos.txt',\n",
       " 'ensayos_suelos.txt',\n",
       " 'Leeme.txt',\n",
       " 'Licencias Schneider.txt',\n",
       " 'Maquinas Virtuales',\n",
       " 'PDF_SGC',\n",
       " 'plc_gcode.txt',\n",
       " 'Proyectos',\n",
       " 'System Volume Information',\n",
       " 'yolo11n.onnx',\n",
       " 'yolo11n.pt']"
      ]
     },
     "execution_count": 45,
     "metadata": {},
     "output_type": "execute_result"
    }
   ],
   "source": [
    "os.listdir()"
   ]
  },
  {
   "cell_type": "markdown",
   "metadata": {
    "id": "FZSkkanh1ZOE"
   },
   "source": [
    "También podemos simplemente redireccional la salida del `print()` (que imprime en pantalla) a un archivo. "
   ]
  },
  {
   "cell_type": "code",
   "execution_count": 46,
   "metadata": {
    "id": "DgahxEzcz8Hs"
   },
   "outputs": [
    {
     "data": {
      "text/plain": [
       "['$RECYCLE.BIN',\n",
       " 'Archivos de Outlook',\n",
       " 'AuMax',\n",
       " 'AutoCAD.2022_Spanish_64bit',\n",
       " 'Clase4.ipynb',\n",
       " 'CN_FRVM_arcstyle.nc',\n",
       " 'CN_FRVM_Contorno.nc',\n",
       " 'CN_FRVM_contour.nc',\n",
       " 'CN_FRVM_Mayor.nc',\n",
       " 'CN_FRVM_sample.nc',\n",
       " 'cn_frvm_scaled.nc',\n",
       " 'CN_FRVM_simple.nc',\n",
       " 'CN_FRVM_ultimo.nc',\n",
       " 'concrete.csv',\n",
       " 'datos.txt',\n",
       " 'datos2.txt',\n",
       " 'ensayos_suelos.txt',\n",
       " 'Leeme.txt',\n",
       " 'Licencias Schneider.txt',\n",
       " 'Maquinas Virtuales',\n",
       " 'PDF_SGC',\n",
       " 'plc_gcode.txt',\n",
       " 'Proyectos',\n",
       " 'System Volume Information',\n",
       " 'yolo11n.onnx',\n",
       " 'yolo11n.pt']"
      ]
     },
     "execution_count": 46,
     "metadata": {},
     "output_type": "execute_result"
    }
   ],
   "source": [
    "with open('datos2.txt', 'w') as o:\n",
    "    print('Hola mundo !!', file=o)\n",
    "os.listdir()"
   ]
  },
  {
   "cell_type": "markdown",
   "metadata": {
    "id": "4CHbFVhoBSA1"
   },
   "source": [
    "## Ejercicios"
   ]
  },
  {
   "cell_type": "markdown",
   "metadata": {
    "id": "5t_9CG-zBpIM"
   },
   "source": [
    "### Ejercicio 1:\n",
    "**Temperaturas máximas**\n",
    "En la página del servicio metereológico nacional es posible descargar algunos [datos históriocos](https://www.smn.gob.ar/descarga-de-datos). A partir de los archivos: \n",
    "* `estaciones_metereologicas.csv` que contiene la información de las estaciones metereologicas en el país. \n",
    "* `registro_temperatura365d_smn.csv`que tiene, para las diferentes estaciones metereologicas, los valores máximos y mínimos de temperatura registrados para diferentes días en el último año. \n",
    "\n",
    "Determinar para la región del país en donde vive cuál fue la mínima y máxima temperatura registrada en el último año y para que día fue."
   ]
  },
  {
   "cell_type": "code",
   "execution_count": null,
   "metadata": {
    "id": "GXaerfIsItME"
   },
   "outputs": [],
   "source": []
  },
  {
   "cell_type": "markdown",
   "metadata": {
    "id": "MArNyImKDGfX"
   },
   "source": [
    "### Ejercicio 2:\n",
    "Escribir un programa que pida un número entero entre 1 y 10 y guarde en un fichero con el nombre `tabla-n.txt` la tabla de multiplicar de ese número, done `n` es el número introducido."
   ]
  },
  {
   "cell_type": "code",
   "execution_count": null,
   "metadata": {
    "id": "0llVwKiknR_U"
   },
   "outputs": [],
   "source": []
  },
  {
   "cell_type": "markdown",
   "metadata": {
    "id": "iOX4M0PhTriN"
   },
   "source": [
    "## Información complementaria para quien tiene curiosidad, no es necesario saber. \n",
    "\n",
    "### Como omitir los archivos ocultos cuando usas `os.listdir()`\n",
    "\n",
    "Si deseas omitir los archivos ocultos en el resultado, puedes filtrar la `lista` utilizando una comprensión de `lista` y la función `os.path.isfile()` para comprobar si un archivo es visible o no. "
   ]
  },
  {
   "cell_type": "code",
   "execution_count": null,
   "metadata": {
    "colab": {
     "base_uri": "https://localhost:8080/"
    },
    "executionInfo": {
     "elapsed": 1972,
     "status": "ok",
     "timestamp": 1678482385192,
     "user": {
      "displayName": "Carla Bonifazi",
      "userId": "18427600192560264413"
     },
     "user_tz": 180
    },
    "id": "dcmQkpWaUFrV",
    "outputId": "dfa4ab80-0f1d-40ca-b29d-ea88395398e1"
   },
   "outputs": [
    {
     "name": "stdout",
     "output_type": "stream",
     "text": [
      "Drive already mounted at /content/drive/; to attempt to forcibly remount, call drive.mount(\"/content/drive/\", force_remount=True).\n",
      "['Othercomputers', '.shortcut-targets-by-id', 'MyDrive', '.file-revisions-by-id', 'Shareddrives', '.Trash-0']\n",
      "['Othercomputers', 'MyDrive', 'Shareddrives']\n"
     ]
    }
   ],
   "source": [
    "\n",
    "import os\n",
    "from google.colab import drive          \n",
    "\n",
    "drive.mount(\"/content/drive/\") \n",
    "os.chdir('/content/drive')    \n",
    "\n",
    "print(os.listdir())\n",
    "\n",
    "visible_files = [f for f in os.listdir() if not f.startswith('.') ]\n",
    "# esta linea arriba es la compresión de la lista que llena la lista de archivos \n",
    "# que no comienzan con puntos y que hace lo que está aqui abajo comentado:\n",
    "#visible_files = []\n",
    "#for f in os.listdir():\n",
    "#  if not f.startswith('.'):\n",
    "#    visible_files.append(f)\n",
    "\n",
    "print(visible_files)\n"
   ]
  }
 ],
 "metadata": {
  "colab": {
   "provenance": [],
   "toc_visible": true
  },
  "kernelspec": {
   "display_name": "Python 3",
   "name": "python3"
  },
  "language_info": {
   "codemirror_mode": {
    "name": "ipython",
    "version": 3
   },
   "file_extension": ".py",
   "mimetype": "text/x-python",
   "name": "python",
   "nbconvert_exporter": "python",
   "pygments_lexer": "ipython3",
   "version": "3.12.6"
  }
 },
 "nbformat": 4,
 "nbformat_minor": 0
}
