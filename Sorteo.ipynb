{
 "cells": [
  {
   "cell_type": "code",
   "execution_count": 3,
   "id": "e1b121d0",
   "metadata": {},
   "outputs": [
    {
     "name": "stdout",
     "output_type": "stream",
     "text": [
      "--- Sorteo de alumno(a) ---\n",
      "El número total de alumnos en la lista es: 46.\n",
      "------------------------------\n",
      "¡El alumno(a) elegido(a) es: Sotto Emanuel!\n",
      "------------------------------\n"
     ]
    }
   ],
   "source": [
    "import random\n",
    "\n",
    "nombres_alumnos = [\n",
    "    \"Zurschmitten Nicolás\",\n",
    "    \"Pedro Caballero\",\n",
    "    \"Gonzalez Emilia\",\n",
    "    \"Racca Bertello Juana\",\n",
    "    \"Correa Gaitan Ana\",\n",
    "    \"Perez Mamani Isabel\",\n",
    "    \"Torres Bautista\",\n",
    "    \"Cassaglia Julian\",\n",
    "    \"Morossini Guadalupe Del Valle\",\n",
    "    \"Aguada Soledad\",\n",
    "    \"Oliver Genaro\",\n",
    "    \"Lazzuri Felipe\",\n",
    "    \"Pradella Giuliana Stefanía\",\n",
    "    \"Solis Lautaro\",\n",
    "    \"Alves Sharon\",\n",
    "    \"Guasconi Gilli Julia\",\n",
    "    \"Vera Veronica\",\n",
    "    \"Rivata Magdalena\",\n",
    "    \"Torres Torche Maitena\",\n",
    "    \"Romero Luis Mateo\",\n",
    "    \"Caballero Juan\",\n",
    "    \"Sotto Emanuel\",\n",
    "    \"Sassia Gabioud Alma\",\n",
    "    \"Dequino Sofia\",\n",
    "    \"Francese Santiago\",\n",
    "    \"Mir Nahir\",\n",
    "    \"Guevara Maria Valentina\",\n",
    "    \"Beso Celeste\", \n",
    "    \"Alanis Jos Ignacio\",\n",
    "    \"De Lorenzi Valentino\",\n",
    "    \"Matias Fermani\",\n",
    "    \"Esquivel Karen\",\n",
    "    \"González Facundo Agustín\",\n",
    "    \"Baravalle Paulina\",\n",
    "    \"Ponce Julieta Milagros\",\n",
    "    \"Pucheta Ariadna Nahir\",\n",
    "    \"Luna Tomas Ariel\",\n",
    "    \"Poloni Benjamin\",\n",
    "    \"Dutto Avila Bruno\",\n",
    "    \"Rabbia Benjamin\",\n",
    "    \"Raschi Pablo\",\n",
    "    \"Lopez Juan Daniel\",\n",
    "    \"Michel Tobias\",\n",
    "    \"Quintana Tomas\",\n",
    "    \"Preciado Fermin\",\n",
    "    \"Sandri Cristian\"\n",
    "]\n",
    "\n",
    "nombre_elegido = random.choice(nombres_alumnos)\n",
    "\n",
    "print(\"--- Sorteo de alumno(a) ---\")\n",
    "print(f\"El número total de alumnos en la lista es: {len(nombres_alumnos)}.\")\n",
    "print(\"-\" * 30)\n",
    "print(f\"¡El alumno(a) elegido(a) es: {nombre_elegido}!\")\n",
    "print(\"-\" * 30)"
   ]
  }
 ],
 "metadata": {
  "kernelspec": {
   "display_name": "base",
   "language": "python",
   "name": "python3"
  },
  "language_info": {
   "codemirror_mode": {
    "name": "ipython",
    "version": 3
   },
   "file_extension": ".py",
   "mimetype": "text/x-python",
   "name": "python",
   "nbconvert_exporter": "python",
   "pygments_lexer": "ipython3",
   "version": "3.12.7"
  }
 },
 "nbformat": 4,
 "nbformat_minor": 5
}
