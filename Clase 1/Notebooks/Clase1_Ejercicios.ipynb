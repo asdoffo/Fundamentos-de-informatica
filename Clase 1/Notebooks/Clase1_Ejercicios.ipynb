{
 "cells": [
  {
   "cell_type": "markdown",
   "id": "210c011f",
   "metadata": {},
   "source": [
    "# Clase 1 - Ejercicios - Introducción a Python"
   ]
  },
  {
   "cell_type": "markdown",
   "id": "780e7d25",
   "metadata": {},
   "source": [
    "## Ejercicio 1: Operaciones básicas y variables\n",
    "\n",
    "### Descripción\n",
    "\n",
    "Una tienda vende tres tipos de artículos:\n",
    "- Camisetas: $250 cada una\n",
    "- Pantalones: $450 cada una\n",
    "- Zapatillas: $800 cada una\n",
    "\n",
    "### Tareas\n",
    "\n",
    "Calcula el total de una compra que incluye:\n",
    "- 2 camisetas\n",
    "- 1 pantalón\n",
    "- 1 par de zapatillas\n",
    "\n",
    "**Imprimí:**\n",
    "- El costo de cada artículo por separado\n",
    "- El total de la compra\n"
   ]
  },
  {
   "cell_type": "code",
   "execution_count": null,
   "id": "3b5bc9d6",
   "metadata": {
    "vscode": {
     "languageId": "plaintext"
    }
   },
   "outputs": [],
   "source": [
    "# Solución"
   ]
  },
  {
   "cell_type": "markdown",
   "id": "2dde2f74",
   "metadata": {},
   "source": [
    "## Ejercicio 2: Comparaciones y booleanos\n",
    "\n",
    "### Descripción\n",
    "\n",
    "Tres estudiantes tienen las siguientes notas:\n",
    "- Juan: 7.5\n",
    "- María: 9.2\n",
    "- Carlos: 6.8\n",
    "\n",
    "Para aprobar el curso se necesita una nota de 7.0 o superior.\n",
    "\n",
    "### Tareas\n",
    "\n",
    "Determina quién aprobó usando comparaciones.\n",
    "\n",
    "**Imprimí:**\n",
    "- El nombre de cada estudiante junto con \"Aprobó\" o \"No aprobó\"\n",
    "\n"
   ]
  },
  {
   "cell_type": "code",
   "execution_count": null,
   "id": "f5234201",
   "metadata": {
    "vscode": {
     "languageId": "plaintext"
    }
   },
   "outputs": [],
   "source": []
  },
  {
   "cell_type": "markdown",
   "id": "a84accc4",
   "metadata": {},
   "source": [
    "## Ejercicio 3: Operaciones con cadenas de caracteres\n",
    "\n",
    "### Descripción\n",
    "\n",
    "Tu nombre completo es: `\"Juan Alberto López Pérez\"`\n",
    "\n",
    "### Tareas\n",
    "\n",
    "Realiza las siguientes operaciones:\n",
    "\n",
    "1. Imprimí el nombre en **minúsculas**\n",
    "2. Imprimí el nombre en **mayúsculas**\n",
    "3. **Contá** cuántas letras tiene tu nombre (sin contar espacios)\n",
    "4. **Extraé** solo el primer nombre usando slicing\n",
    "5. **Verificá** si la palabra \"Alberto\" está en tu nombre\n",
    "\n"
   ]
  },
  {
   "cell_type": "code",
   "execution_count": null,
   "id": "2d62ce62",
   "metadata": {
    "vscode": {
     "languageId": "plaintext"
    }
   },
   "outputs": [],
   "source": []
  },
  {
   "cell_type": "markdown",
   "id": "a287ed42",
   "metadata": {},
   "source": [
    "## Ejercicio 4: Listas y búsqueda\n",
    "\n",
    "### Descripción\n",
    "\n",
    "Tienes la siguiente lista de frutas:\n",
    "```python\n",
    "['manzana', 'plátano', 'naranja', 'uva', 'sandía']\n",
    "```\n",
    "\n",
    "### Tareas\n",
    "\n",
    "Realiza las siguientes operaciones:\n",
    "\n",
    "1. **Imprimí** la lista original\n",
    "2. **Agregá** 'fresa' al final\n",
    "3. **Insertá** 'piña' en la posición 2\n",
    "4. **Encontra** la posición de 'naranja'\n",
    "5. **Verificá** si 'melón' está en la lista\n",
    "6. **Imprimí** la lista ordenada alfabéticamente\n"
   ]
  },
  {
   "cell_type": "code",
   "execution_count": null,
   "id": "4422eb57",
   "metadata": {
    "vscode": {
     "languageId": "plaintext"
    }
   },
   "outputs": [],
   "source": []
  },
  {
   "cell_type": "markdown",
   "id": "96fb7cb9",
   "metadata": {},
   "source": [
    "## Ejercicio 5: Bucle while simple\n",
    "\n",
    "### Descripción\n",
    "\n",
    "Escribe un programa que cuente desde 1 hasta 10 usando un bucle `while`.\n",
    "\n",
    "### Tareas\n",
    "\n",
    "Para cada número, imprimí:\n",
    "- El número\n",
    "- Su cuadrado\n",
    "- Su cubo\n",
    "\n",
    "### Resultado esperado\n",
    "\n",
    "```\n",
    "1 - Cuadrado: 1 - Cubo: 1\n",
    "2 - Cuadrado: 4 - Cubo: 8\n",
    "3 - Cuadrado: 9 - Cubo: 27\n",
    "4 - Cuadrado: 16 - Cubo: 64\n",
    "5 - Cuadrado: 25 - Cubo: 125\n",
    "...\n",
    "10 - Cuadrado: 100 - Cubo: 1000\n",
    "```\n"
   ]
  },
  {
   "cell_type": "code",
   "execution_count": null,
   "id": "50030ae7",
   "metadata": {
    "vscode": {
     "languageId": "plaintext"
    }
   },
   "outputs": [],
   "source": []
  },
  {
   "cell_type": "markdown",
   "id": "de25bd0b",
   "metadata": {},
   "source": [
    "## Notas importantes\n",
    "\n",
    "- Recorda que en Python los índices comienzan en 0\n",
    "- Los espacios en blanco (indentación) son importantes en los bucles\n",
    "- Podes usar la función `len()` para obtener la longitud de una cadena o lista\n",
    "- Usa `print()` para mostrar los resultados"
   ]
  }
 ],
 "metadata": {
  "language_info": {
   "name": "python"
  }
 },
 "nbformat": 4,
 "nbformat_minor": 5
}
