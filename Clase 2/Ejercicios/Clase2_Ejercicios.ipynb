{
 "cells": [
  {
   "cell_type": "markdown",
   "id": "881e4184",
   "metadata": {},
   "source": [
    "### Ejercicio 1: Cálculo de volumen de hormigón\n",
    "\n",
    "Una viga de hormigón tiene una sección rectangular de 30 cm × 50 cm y una longitud de 4,2 metros.\n",
    "Calculá el volumen total de hormigón en metros cúbicos.\n",
    "\n",
    "> Usa variables para almacenar dimensiones, operadores para convertir unidades (cm → m), y print() para mostrar el resultado redondeado a 3 decimales."
   ]
  },
  {
   "cell_type": "code",
   "execution_count": null,
   "id": "9b48c4f1",
   "metadata": {
    "vscode": {
     "languageId": "plaintext"
    }
   },
   "outputs": [],
   "source": []
  },
  {
   "cell_type": "markdown",
   "id": "f4186613",
   "metadata": {},
   "source": [
    "### Ejercicio 2: Peso propio de una losa\n",
    "\n",
    "Una losa maciza de hormigón tiene un espesor de 0.15 m y una densidad de 2500 kg/m³.\n",
    "Si la losa cubre un área de 6 m × 4 m, calculá el peso propio total (en kN).\n",
    "\n",
    "> Recordá que 1 kN = 1000 N y que el peso = masa × gravedad (9.81 m/s²)."
   ]
  },
  {
   "cell_type": "code",
   "execution_count": null,
   "id": "a19cd84f",
   "metadata": {
    "vscode": {
     "languageId": "plaintext"
    }
   },
   "outputs": [],
   "source": []
  },
  {
   "cell_type": "markdown",
   "id": "068ddd0b",
   "metadata": {},
   "source": [
    "### Ejercicio 3: Comparación de resistencias\n",
    "\n",
    "El laboratorio ensayó dos tipos de probetas de hormigón:\n",
    "\n",
    "* Tipo A: 28.4 MPa\n",
    "\n",
    "* Tipo B: 31.7 MPa\n",
    "\n",
    "Usá operadores de comparación para determinar cuál tiene mayor resistencia e imprimí un mensaje como:\n",
    "\n",
    "'El hormigón Tipo B tiene mayor resistencia.'"
   ]
  },
  {
   "cell_type": "code",
   "execution_count": null,
   "id": "e5a1785d",
   "metadata": {
    "vscode": {
     "languageId": "plaintext"
    }
   },
   "outputs": [],
   "source": []
  },
  {
   "cell_type": "markdown",
   "id": "7c941b3a",
   "metadata": {},
   "source": [
    "### Ejercicio 4: Longitud total de barras\n",
    "\n",
    "En una estructura hay 8 columnas, cada una con 4 barras de acero de 2.5 m de longitud.\n",
    "Calculá la longitud total de acero y mostrala con un mensaje formateado, por ejemplo:\n",
    "\n",
    "'Longitud total de acero: 80.0 m'\n",
    "\n",
    "> Usá operadores aritméticos y str() o round() para controlar el formato de salida."
   ]
  },
  {
   "cell_type": "code",
   "execution_count": null,
   "id": "eb610acc",
   "metadata": {
    "vscode": {
     "languageId": "plaintext"
    }
   },
   "outputs": [],
   "source": []
  },
  {
   "cell_type": "markdown",
   "id": "89ab5851",
   "metadata": {},
   "source": [
    "### Ejercicio 5: Revisión de tipo de variable\n",
    "\n",
    "Definí las siguientes variables y verificá sus tipos usando type():"
   ]
  },
  {
   "cell_type": "code",
   "execution_count": null,
   "id": "c02b2ed4",
   "metadata": {
    "vscode": {
     "languageId": "plaintext"
    }
   },
   "outputs": [],
   "source": [
    "altura = 3.2\n",
    "material = \"Hormigón\"\n",
    "resistente = True"
   ]
  },
  {
   "cell_type": "markdown",
   "id": "f60ed1fb",
   "metadata": {},
   "source": [
    "Imprimí un texto del estilo:\n",
    "\n",
    "El tipo de dato de 'altura' es <class 'float'>\n",
    "El tipo de dato de 'material' es <class 'str'>\n",
    "El tipo de dato de 'resistente' es <class 'bool'>"
   ]
  },
  {
   "cell_type": "code",
   "execution_count": null,
   "id": "5d743618",
   "metadata": {
    "vscode": {
     "languageId": "plaintext"
    }
   },
   "outputs": [],
   "source": []
  }
 ],
 "metadata": {
  "language_info": {
   "name": "python"
  }
 },
 "nbformat": 4,
 "nbformat_minor": 5
}
